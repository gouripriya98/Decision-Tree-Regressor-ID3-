{
 "cells": [
  {
   "cell_type": "markdown",
   "id": "f098f7ee",
   "metadata": {},
   "source": [
    "# Car Price Prediction"
   ]
  },
  {
   "cell_type": "raw",
   "id": "1fa0af4f",
   "metadata": {},
   "source": [
    "A Chinese automobile company Geely Auto aspires to enter the US market by setting up their manufacturing unit there and producing cars locally to give competition to their US and European counterparts.\n",
    "\n",
    "They have contracted an automobile consulting company to understand the factors on which the pricing of cars depends. Specifically, they want to understand the factors affecting the pricing of cars in the American market, since those may be very different from the Chinese market. The company wants to know:\n",
    "\n",
    "- Which variables are significant in predicting the price of a car\n",
    "- How well those variables describe the price of a car\n",
    "\n",
    "Based on various market surveys, the consulting firm has gathered a large dataset of different types of cars across the Americal market."
   ]
  },
  {
   "cell_type": "raw",
   "id": "03882024",
   "metadata": {},
   "source": [
    "**Buisiness Goal**\n",
    "\n",
    "You are required to model the price of cars with the available independent variables. It will be used by the management to understand how exactly the prices vary with the independent variables. They can accordingly manipulate the design of the cars, the business strategy etc. to meet certain price levels. Further, the model will be a good way for management to understand the pricing dynamics of a new market."
   ]
  },
  {
   "cell_type": "code",
   "execution_count": 1,
   "id": "eed3fac0",
   "metadata": {},
   "outputs": [],
   "source": [
    "#importing the libraries\n",
    "import numpy as np # numpy used for mathematical operation on array\n",
    "import pandas as pd # pandas used for data manipulation on dataframe\n",
    "import matplotlib.pyplot as plt # matplotlib used for data visualization\n",
    "import seaborn as sns # seaborn used for data visualization"
   ]
  },
  {
   "cell_type": "code",
   "execution_count": 2,
   "id": "fb3e7517",
   "metadata": {},
   "outputs": [],
   "source": [
    "import warnings\n",
    "warnings.filterwarnings('ignore')"
   ]
  },
  {
   "cell_type": "markdown",
   "id": "73f1764f",
   "metadata": {},
   "source": [
    "### Step 1: Reading and understanding the data"
   ]
  },
  {
   "cell_type": "code",
   "execution_count": 3,
   "id": "314443ac",
   "metadata": {},
   "outputs": [],
   "source": [
    "#Reading the data\n",
    "cars = pd.read_csv(\"CarPrice_Assignment.csv\")"
   ]
  },
  {
   "cell_type": "code",
   "execution_count": 4,
   "id": "2c1fe81f",
   "metadata": {},
   "outputs": [
    {
     "data": {
      "text/html": [
       "<div>\n",
       "<style scoped>\n",
       "    .dataframe tbody tr th:only-of-type {\n",
       "        vertical-align: middle;\n",
       "    }\n",
       "\n",
       "    .dataframe tbody tr th {\n",
       "        vertical-align: top;\n",
       "    }\n",
       "\n",
       "    .dataframe thead th {\n",
       "        text-align: right;\n",
       "    }\n",
       "</style>\n",
       "<table border=\"1\" class=\"dataframe\">\n",
       "  <thead>\n",
       "    <tr style=\"text-align: right;\">\n",
       "      <th></th>\n",
       "      <th>car_ID</th>\n",
       "      <th>symboling</th>\n",
       "      <th>CarName</th>\n",
       "      <th>fueltype</th>\n",
       "      <th>aspiration</th>\n",
       "      <th>doornumber</th>\n",
       "      <th>carbody</th>\n",
       "      <th>drivewheel</th>\n",
       "      <th>enginelocation</th>\n",
       "      <th>wheelbase</th>\n",
       "      <th>...</th>\n",
       "      <th>enginesize</th>\n",
       "      <th>fuelsystem</th>\n",
       "      <th>boreratio</th>\n",
       "      <th>stroke</th>\n",
       "      <th>compressionratio</th>\n",
       "      <th>horsepower</th>\n",
       "      <th>peakrpm</th>\n",
       "      <th>citympg</th>\n",
       "      <th>highwaympg</th>\n",
       "      <th>price</th>\n",
       "    </tr>\n",
       "  </thead>\n",
       "  <tbody>\n",
       "    <tr>\n",
       "      <th>0</th>\n",
       "      <td>1</td>\n",
       "      <td>3</td>\n",
       "      <td>alfa-romero giulia</td>\n",
       "      <td>gas</td>\n",
       "      <td>std</td>\n",
       "      <td>two</td>\n",
       "      <td>convertible</td>\n",
       "      <td>rwd</td>\n",
       "      <td>front</td>\n",
       "      <td>88.6</td>\n",
       "      <td>...</td>\n",
       "      <td>130</td>\n",
       "      <td>mpfi</td>\n",
       "      <td>3.47</td>\n",
       "      <td>2.68</td>\n",
       "      <td>9.0</td>\n",
       "      <td>111</td>\n",
       "      <td>5000</td>\n",
       "      <td>21</td>\n",
       "      <td>27</td>\n",
       "      <td>13495.0</td>\n",
       "    </tr>\n",
       "    <tr>\n",
       "      <th>1</th>\n",
       "      <td>2</td>\n",
       "      <td>3</td>\n",
       "      <td>alfa-romero stelvio</td>\n",
       "      <td>gas</td>\n",
       "      <td>std</td>\n",
       "      <td>two</td>\n",
       "      <td>convertible</td>\n",
       "      <td>rwd</td>\n",
       "      <td>front</td>\n",
       "      <td>88.6</td>\n",
       "      <td>...</td>\n",
       "      <td>130</td>\n",
       "      <td>mpfi</td>\n",
       "      <td>3.47</td>\n",
       "      <td>2.68</td>\n",
       "      <td>9.0</td>\n",
       "      <td>111</td>\n",
       "      <td>5000</td>\n",
       "      <td>21</td>\n",
       "      <td>27</td>\n",
       "      <td>16500.0</td>\n",
       "    </tr>\n",
       "    <tr>\n",
       "      <th>2</th>\n",
       "      <td>3</td>\n",
       "      <td>1</td>\n",
       "      <td>alfa-romero Quadrifoglio</td>\n",
       "      <td>gas</td>\n",
       "      <td>std</td>\n",
       "      <td>two</td>\n",
       "      <td>hatchback</td>\n",
       "      <td>rwd</td>\n",
       "      <td>front</td>\n",
       "      <td>94.5</td>\n",
       "      <td>...</td>\n",
       "      <td>152</td>\n",
       "      <td>mpfi</td>\n",
       "      <td>2.68</td>\n",
       "      <td>3.47</td>\n",
       "      <td>9.0</td>\n",
       "      <td>154</td>\n",
       "      <td>5000</td>\n",
       "      <td>19</td>\n",
       "      <td>26</td>\n",
       "      <td>16500.0</td>\n",
       "    </tr>\n",
       "    <tr>\n",
       "      <th>3</th>\n",
       "      <td>4</td>\n",
       "      <td>2</td>\n",
       "      <td>audi 100 ls</td>\n",
       "      <td>gas</td>\n",
       "      <td>std</td>\n",
       "      <td>four</td>\n",
       "      <td>sedan</td>\n",
       "      <td>fwd</td>\n",
       "      <td>front</td>\n",
       "      <td>99.8</td>\n",
       "      <td>...</td>\n",
       "      <td>109</td>\n",
       "      <td>mpfi</td>\n",
       "      <td>3.19</td>\n",
       "      <td>3.40</td>\n",
       "      <td>10.0</td>\n",
       "      <td>102</td>\n",
       "      <td>5500</td>\n",
       "      <td>24</td>\n",
       "      <td>30</td>\n",
       "      <td>13950.0</td>\n",
       "    </tr>\n",
       "    <tr>\n",
       "      <th>4</th>\n",
       "      <td>5</td>\n",
       "      <td>2</td>\n",
       "      <td>audi 100ls</td>\n",
       "      <td>gas</td>\n",
       "      <td>std</td>\n",
       "      <td>four</td>\n",
       "      <td>sedan</td>\n",
       "      <td>4wd</td>\n",
       "      <td>front</td>\n",
       "      <td>99.4</td>\n",
       "      <td>...</td>\n",
       "      <td>136</td>\n",
       "      <td>mpfi</td>\n",
       "      <td>3.19</td>\n",
       "      <td>3.40</td>\n",
       "      <td>8.0</td>\n",
       "      <td>115</td>\n",
       "      <td>5500</td>\n",
       "      <td>18</td>\n",
       "      <td>22</td>\n",
       "      <td>17450.0</td>\n",
       "    </tr>\n",
       "  </tbody>\n",
       "</table>\n",
       "<p>5 rows × 26 columns</p>\n",
       "</div>"
      ],
      "text/plain": [
       "   car_ID  symboling                   CarName fueltype aspiration doornumber  \\\n",
       "0       1          3        alfa-romero giulia      gas        std        two   \n",
       "1       2          3       alfa-romero stelvio      gas        std        two   \n",
       "2       3          1  alfa-romero Quadrifoglio      gas        std        two   \n",
       "3       4          2               audi 100 ls      gas        std       four   \n",
       "4       5          2                audi 100ls      gas        std       four   \n",
       "\n",
       "       carbody drivewheel enginelocation  wheelbase  ...  enginesize  \\\n",
       "0  convertible        rwd          front       88.6  ...         130   \n",
       "1  convertible        rwd          front       88.6  ...         130   \n",
       "2    hatchback        rwd          front       94.5  ...         152   \n",
       "3        sedan        fwd          front       99.8  ...         109   \n",
       "4        sedan        4wd          front       99.4  ...         136   \n",
       "\n",
       "   fuelsystem  boreratio  stroke compressionratio horsepower  peakrpm citympg  \\\n",
       "0        mpfi       3.47    2.68              9.0        111     5000      21   \n",
       "1        mpfi       3.47    2.68              9.0        111     5000      21   \n",
       "2        mpfi       2.68    3.47              9.0        154     5000      19   \n",
       "3        mpfi       3.19    3.40             10.0        102     5500      24   \n",
       "4        mpfi       3.19    3.40              8.0        115     5500      18   \n",
       "\n",
       "   highwaympg    price  \n",
       "0          27  13495.0  \n",
       "1          27  16500.0  \n",
       "2          26  16500.0  \n",
       "3          30  13950.0  \n",
       "4          22  17450.0  \n",
       "\n",
       "[5 rows x 26 columns]"
      ]
     },
     "execution_count": 4,
     "metadata": {},
     "output_type": "execute_result"
    }
   ],
   "source": [
    "#Displaying the first 5 rows\n",
    "cars.head()"
   ]
  },
  {
   "cell_type": "code",
   "execution_count": 5,
   "id": "693c175d",
   "metadata": {},
   "outputs": [
    {
     "data": {
      "text/html": [
       "<div>\n",
       "<style scoped>\n",
       "    .dataframe tbody tr th:only-of-type {\n",
       "        vertical-align: middle;\n",
       "    }\n",
       "\n",
       "    .dataframe tbody tr th {\n",
       "        vertical-align: top;\n",
       "    }\n",
       "\n",
       "    .dataframe thead th {\n",
       "        text-align: right;\n",
       "    }\n",
       "</style>\n",
       "<table border=\"1\" class=\"dataframe\">\n",
       "  <thead>\n",
       "    <tr style=\"text-align: right;\">\n",
       "      <th></th>\n",
       "      <th>car_ID</th>\n",
       "      <th>symboling</th>\n",
       "      <th>CarName</th>\n",
       "      <th>fueltype</th>\n",
       "      <th>aspiration</th>\n",
       "      <th>doornumber</th>\n",
       "      <th>carbody</th>\n",
       "      <th>drivewheel</th>\n",
       "      <th>enginelocation</th>\n",
       "      <th>wheelbase</th>\n",
       "      <th>...</th>\n",
       "      <th>enginesize</th>\n",
       "      <th>fuelsystem</th>\n",
       "      <th>boreratio</th>\n",
       "      <th>stroke</th>\n",
       "      <th>compressionratio</th>\n",
       "      <th>horsepower</th>\n",
       "      <th>peakrpm</th>\n",
       "      <th>citympg</th>\n",
       "      <th>highwaympg</th>\n",
       "      <th>price</th>\n",
       "    </tr>\n",
       "  </thead>\n",
       "  <tbody>\n",
       "    <tr>\n",
       "      <th>200</th>\n",
       "      <td>201</td>\n",
       "      <td>-1</td>\n",
       "      <td>volvo 145e (sw)</td>\n",
       "      <td>gas</td>\n",
       "      <td>std</td>\n",
       "      <td>four</td>\n",
       "      <td>sedan</td>\n",
       "      <td>rwd</td>\n",
       "      <td>front</td>\n",
       "      <td>109.1</td>\n",
       "      <td>...</td>\n",
       "      <td>141</td>\n",
       "      <td>mpfi</td>\n",
       "      <td>3.78</td>\n",
       "      <td>3.15</td>\n",
       "      <td>9.5</td>\n",
       "      <td>114</td>\n",
       "      <td>5400</td>\n",
       "      <td>23</td>\n",
       "      <td>28</td>\n",
       "      <td>16845.0</td>\n",
       "    </tr>\n",
       "    <tr>\n",
       "      <th>201</th>\n",
       "      <td>202</td>\n",
       "      <td>-1</td>\n",
       "      <td>volvo 144ea</td>\n",
       "      <td>gas</td>\n",
       "      <td>turbo</td>\n",
       "      <td>four</td>\n",
       "      <td>sedan</td>\n",
       "      <td>rwd</td>\n",
       "      <td>front</td>\n",
       "      <td>109.1</td>\n",
       "      <td>...</td>\n",
       "      <td>141</td>\n",
       "      <td>mpfi</td>\n",
       "      <td>3.78</td>\n",
       "      <td>3.15</td>\n",
       "      <td>8.7</td>\n",
       "      <td>160</td>\n",
       "      <td>5300</td>\n",
       "      <td>19</td>\n",
       "      <td>25</td>\n",
       "      <td>19045.0</td>\n",
       "    </tr>\n",
       "    <tr>\n",
       "      <th>202</th>\n",
       "      <td>203</td>\n",
       "      <td>-1</td>\n",
       "      <td>volvo 244dl</td>\n",
       "      <td>gas</td>\n",
       "      <td>std</td>\n",
       "      <td>four</td>\n",
       "      <td>sedan</td>\n",
       "      <td>rwd</td>\n",
       "      <td>front</td>\n",
       "      <td>109.1</td>\n",
       "      <td>...</td>\n",
       "      <td>173</td>\n",
       "      <td>mpfi</td>\n",
       "      <td>3.58</td>\n",
       "      <td>2.87</td>\n",
       "      <td>8.8</td>\n",
       "      <td>134</td>\n",
       "      <td>5500</td>\n",
       "      <td>18</td>\n",
       "      <td>23</td>\n",
       "      <td>21485.0</td>\n",
       "    </tr>\n",
       "    <tr>\n",
       "      <th>203</th>\n",
       "      <td>204</td>\n",
       "      <td>-1</td>\n",
       "      <td>volvo 246</td>\n",
       "      <td>diesel</td>\n",
       "      <td>turbo</td>\n",
       "      <td>four</td>\n",
       "      <td>sedan</td>\n",
       "      <td>rwd</td>\n",
       "      <td>front</td>\n",
       "      <td>109.1</td>\n",
       "      <td>...</td>\n",
       "      <td>145</td>\n",
       "      <td>idi</td>\n",
       "      <td>3.01</td>\n",
       "      <td>3.40</td>\n",
       "      <td>23.0</td>\n",
       "      <td>106</td>\n",
       "      <td>4800</td>\n",
       "      <td>26</td>\n",
       "      <td>27</td>\n",
       "      <td>22470.0</td>\n",
       "    </tr>\n",
       "    <tr>\n",
       "      <th>204</th>\n",
       "      <td>205</td>\n",
       "      <td>-1</td>\n",
       "      <td>volvo 264gl</td>\n",
       "      <td>gas</td>\n",
       "      <td>turbo</td>\n",
       "      <td>four</td>\n",
       "      <td>sedan</td>\n",
       "      <td>rwd</td>\n",
       "      <td>front</td>\n",
       "      <td>109.1</td>\n",
       "      <td>...</td>\n",
       "      <td>141</td>\n",
       "      <td>mpfi</td>\n",
       "      <td>3.78</td>\n",
       "      <td>3.15</td>\n",
       "      <td>9.5</td>\n",
       "      <td>114</td>\n",
       "      <td>5400</td>\n",
       "      <td>19</td>\n",
       "      <td>25</td>\n",
       "      <td>22625.0</td>\n",
       "    </tr>\n",
       "  </tbody>\n",
       "</table>\n",
       "<p>5 rows × 26 columns</p>\n",
       "</div>"
      ],
      "text/plain": [
       "     car_ID  symboling          CarName fueltype aspiration doornumber  \\\n",
       "200     201         -1  volvo 145e (sw)      gas        std       four   \n",
       "201     202         -1      volvo 144ea      gas      turbo       four   \n",
       "202     203         -1      volvo 244dl      gas        std       four   \n",
       "203     204         -1        volvo 246   diesel      turbo       four   \n",
       "204     205         -1      volvo 264gl      gas      turbo       four   \n",
       "\n",
       "    carbody drivewheel enginelocation  wheelbase  ...  enginesize  fuelsystem  \\\n",
       "200   sedan        rwd          front      109.1  ...         141        mpfi   \n",
       "201   sedan        rwd          front      109.1  ...         141        mpfi   \n",
       "202   sedan        rwd          front      109.1  ...         173        mpfi   \n",
       "203   sedan        rwd          front      109.1  ...         145         idi   \n",
       "204   sedan        rwd          front      109.1  ...         141        mpfi   \n",
       "\n",
       "     boreratio  stroke compressionratio horsepower  peakrpm citympg  \\\n",
       "200       3.78    3.15              9.5        114     5400      23   \n",
       "201       3.78    3.15              8.7        160     5300      19   \n",
       "202       3.58    2.87              8.8        134     5500      18   \n",
       "203       3.01    3.40             23.0        106     4800      26   \n",
       "204       3.78    3.15              9.5        114     5400      19   \n",
       "\n",
       "     highwaympg    price  \n",
       "200          28  16845.0  \n",
       "201          25  19045.0  \n",
       "202          23  21485.0  \n",
       "203          27  22470.0  \n",
       "204          25  22625.0  \n",
       "\n",
       "[5 rows x 26 columns]"
      ]
     },
     "execution_count": 5,
     "metadata": {},
     "output_type": "execute_result"
    }
   ],
   "source": [
    "#Displaying the last 5 rows\n",
    "cars.tail()"
   ]
  },
  {
   "cell_type": "code",
   "execution_count": 6,
   "id": "1bbb476d",
   "metadata": {},
   "outputs": [
    {
     "data": {
      "text/plain": [
       "(205, 26)"
      ]
     },
     "execution_count": 6,
     "metadata": {},
     "output_type": "execute_result"
    }
   ],
   "source": [
    "#Shape of the dataset gives the number of rows and columns present\n",
    "cars.shape"
   ]
  },
  {
   "cell_type": "code",
   "execution_count": 7,
   "id": "4b74d459",
   "metadata": {},
   "outputs": [
    {
     "data": {
      "text/plain": [
       "Index(['car_ID', 'symboling', 'CarName', 'fueltype', 'aspiration',\n",
       "       'doornumber', 'carbody', 'drivewheel', 'enginelocation', 'wheelbase',\n",
       "       'carlength', 'carwidth', 'carheight', 'curbweight', 'enginetype',\n",
       "       'cylindernumber', 'enginesize', 'fuelsystem', 'boreratio', 'stroke',\n",
       "       'compressionratio', 'horsepower', 'peakrpm', 'citympg', 'highwaympg',\n",
       "       'price'],\n",
       "      dtype='object')"
      ]
     },
     "execution_count": 7,
     "metadata": {},
     "output_type": "execute_result"
    }
   ],
   "source": [
    "#Checking for different column present\n",
    "cars.columns"
   ]
  },
  {
   "cell_type": "code",
   "execution_count": 8,
   "id": "70b4ee95",
   "metadata": {},
   "outputs": [
    {
     "data": {
      "text/plain": [
       "car_ID                int64\n",
       "symboling             int64\n",
       "CarName              object\n",
       "fueltype             object\n",
       "aspiration           object\n",
       "doornumber           object\n",
       "carbody              object\n",
       "drivewheel           object\n",
       "enginelocation       object\n",
       "wheelbase           float64\n",
       "carlength           float64\n",
       "carwidth            float64\n",
       "carheight           float64\n",
       "curbweight            int64\n",
       "enginetype           object\n",
       "cylindernumber       object\n",
       "enginesize            int64\n",
       "fuelsystem           object\n",
       "boreratio           float64\n",
       "stroke              float64\n",
       "compressionratio    float64\n",
       "horsepower            int64\n",
       "peakrpm               int64\n",
       "citympg               int64\n",
       "highwaympg            int64\n",
       "price               float64\n",
       "dtype: object"
      ]
     },
     "execution_count": 8,
     "metadata": {},
     "output_type": "execute_result"
    }
   ],
   "source": [
    "#Checking for data types of different columns present\n",
    "cars.dtypes"
   ]
  },
  {
   "cell_type": "code",
   "execution_count": 9,
   "id": "102cd2a0",
   "metadata": {},
   "outputs": [
    {
     "name": "stdout",
     "output_type": "stream",
     "text": [
      "<class 'pandas.core.frame.DataFrame'>\n",
      "RangeIndex: 205 entries, 0 to 204\n",
      "Data columns (total 26 columns):\n",
      " #   Column            Non-Null Count  Dtype  \n",
      "---  ------            --------------  -----  \n",
      " 0   car_ID            205 non-null    int64  \n",
      " 1   symboling         205 non-null    int64  \n",
      " 2   CarName           205 non-null    object \n",
      " 3   fueltype          205 non-null    object \n",
      " 4   aspiration        205 non-null    object \n",
      " 5   doornumber        205 non-null    object \n",
      " 6   carbody           205 non-null    object \n",
      " 7   drivewheel        205 non-null    object \n",
      " 8   enginelocation    205 non-null    object \n",
      " 9   wheelbase         205 non-null    float64\n",
      " 10  carlength         205 non-null    float64\n",
      " 11  carwidth          205 non-null    float64\n",
      " 12  carheight         205 non-null    float64\n",
      " 13  curbweight        205 non-null    int64  \n",
      " 14  enginetype        205 non-null    object \n",
      " 15  cylindernumber    205 non-null    object \n",
      " 16  enginesize        205 non-null    int64  \n",
      " 17  fuelsystem        205 non-null    object \n",
      " 18  boreratio         205 non-null    float64\n",
      " 19  stroke            205 non-null    float64\n",
      " 20  compressionratio  205 non-null    float64\n",
      " 21  horsepower        205 non-null    int64  \n",
      " 22  peakrpm           205 non-null    int64  \n",
      " 23  citympg           205 non-null    int64  \n",
      " 24  highwaympg        205 non-null    int64  \n",
      " 25  price             205 non-null    float64\n",
      "dtypes: float64(8), int64(8), object(10)\n",
      "memory usage: 41.8+ KB\n"
     ]
    }
   ],
   "source": [
    "#Info about the data\n",
    "cars.info()"
   ]
  },
  {
   "cell_type": "code",
   "execution_count": 10,
   "id": "25c947ab",
   "metadata": {},
   "outputs": [
    {
     "data": {
      "text/html": [
       "<div>\n",
       "<style scoped>\n",
       "    .dataframe tbody tr th:only-of-type {\n",
       "        vertical-align: middle;\n",
       "    }\n",
       "\n",
       "    .dataframe tbody tr th {\n",
       "        vertical-align: top;\n",
       "    }\n",
       "\n",
       "    .dataframe thead th {\n",
       "        text-align: right;\n",
       "    }\n",
       "</style>\n",
       "<table border=\"1\" class=\"dataframe\">\n",
       "  <thead>\n",
       "    <tr style=\"text-align: right;\">\n",
       "      <th></th>\n",
       "      <th>car_ID</th>\n",
       "      <th>symboling</th>\n",
       "      <th>wheelbase</th>\n",
       "      <th>carlength</th>\n",
       "      <th>carwidth</th>\n",
       "      <th>carheight</th>\n",
       "      <th>curbweight</th>\n",
       "      <th>enginesize</th>\n",
       "      <th>boreratio</th>\n",
       "      <th>stroke</th>\n",
       "      <th>compressionratio</th>\n",
       "      <th>horsepower</th>\n",
       "      <th>peakrpm</th>\n",
       "      <th>citympg</th>\n",
       "      <th>highwaympg</th>\n",
       "      <th>price</th>\n",
       "    </tr>\n",
       "  </thead>\n",
       "  <tbody>\n",
       "    <tr>\n",
       "      <th>count</th>\n",
       "      <td>205.000000</td>\n",
       "      <td>205.000000</td>\n",
       "      <td>205.000000</td>\n",
       "      <td>205.000000</td>\n",
       "      <td>205.000000</td>\n",
       "      <td>205.000000</td>\n",
       "      <td>205.000000</td>\n",
       "      <td>205.000000</td>\n",
       "      <td>205.000000</td>\n",
       "      <td>205.000000</td>\n",
       "      <td>205.000000</td>\n",
       "      <td>205.000000</td>\n",
       "      <td>205.000000</td>\n",
       "      <td>205.000000</td>\n",
       "      <td>205.000000</td>\n",
       "      <td>205.000000</td>\n",
       "    </tr>\n",
       "    <tr>\n",
       "      <th>mean</th>\n",
       "      <td>103.000000</td>\n",
       "      <td>0.834146</td>\n",
       "      <td>98.756585</td>\n",
       "      <td>174.049268</td>\n",
       "      <td>65.907805</td>\n",
       "      <td>53.724878</td>\n",
       "      <td>2555.565854</td>\n",
       "      <td>126.907317</td>\n",
       "      <td>3.329756</td>\n",
       "      <td>3.255415</td>\n",
       "      <td>10.142537</td>\n",
       "      <td>104.117073</td>\n",
       "      <td>5125.121951</td>\n",
       "      <td>25.219512</td>\n",
       "      <td>30.751220</td>\n",
       "      <td>13276.710571</td>\n",
       "    </tr>\n",
       "    <tr>\n",
       "      <th>std</th>\n",
       "      <td>59.322565</td>\n",
       "      <td>1.245307</td>\n",
       "      <td>6.021776</td>\n",
       "      <td>12.337289</td>\n",
       "      <td>2.145204</td>\n",
       "      <td>2.443522</td>\n",
       "      <td>520.680204</td>\n",
       "      <td>41.642693</td>\n",
       "      <td>0.270844</td>\n",
       "      <td>0.313597</td>\n",
       "      <td>3.972040</td>\n",
       "      <td>39.544167</td>\n",
       "      <td>476.985643</td>\n",
       "      <td>6.542142</td>\n",
       "      <td>6.886443</td>\n",
       "      <td>7988.852332</td>\n",
       "    </tr>\n",
       "    <tr>\n",
       "      <th>min</th>\n",
       "      <td>1.000000</td>\n",
       "      <td>-2.000000</td>\n",
       "      <td>86.600000</td>\n",
       "      <td>141.100000</td>\n",
       "      <td>60.300000</td>\n",
       "      <td>47.800000</td>\n",
       "      <td>1488.000000</td>\n",
       "      <td>61.000000</td>\n",
       "      <td>2.540000</td>\n",
       "      <td>2.070000</td>\n",
       "      <td>7.000000</td>\n",
       "      <td>48.000000</td>\n",
       "      <td>4150.000000</td>\n",
       "      <td>13.000000</td>\n",
       "      <td>16.000000</td>\n",
       "      <td>5118.000000</td>\n",
       "    </tr>\n",
       "    <tr>\n",
       "      <th>25%</th>\n",
       "      <td>52.000000</td>\n",
       "      <td>0.000000</td>\n",
       "      <td>94.500000</td>\n",
       "      <td>166.300000</td>\n",
       "      <td>64.100000</td>\n",
       "      <td>52.000000</td>\n",
       "      <td>2145.000000</td>\n",
       "      <td>97.000000</td>\n",
       "      <td>3.150000</td>\n",
       "      <td>3.110000</td>\n",
       "      <td>8.600000</td>\n",
       "      <td>70.000000</td>\n",
       "      <td>4800.000000</td>\n",
       "      <td>19.000000</td>\n",
       "      <td>25.000000</td>\n",
       "      <td>7788.000000</td>\n",
       "    </tr>\n",
       "    <tr>\n",
       "      <th>50%</th>\n",
       "      <td>103.000000</td>\n",
       "      <td>1.000000</td>\n",
       "      <td>97.000000</td>\n",
       "      <td>173.200000</td>\n",
       "      <td>65.500000</td>\n",
       "      <td>54.100000</td>\n",
       "      <td>2414.000000</td>\n",
       "      <td>120.000000</td>\n",
       "      <td>3.310000</td>\n",
       "      <td>3.290000</td>\n",
       "      <td>9.000000</td>\n",
       "      <td>95.000000</td>\n",
       "      <td>5200.000000</td>\n",
       "      <td>24.000000</td>\n",
       "      <td>30.000000</td>\n",
       "      <td>10295.000000</td>\n",
       "    </tr>\n",
       "    <tr>\n",
       "      <th>75%</th>\n",
       "      <td>154.000000</td>\n",
       "      <td>2.000000</td>\n",
       "      <td>102.400000</td>\n",
       "      <td>183.100000</td>\n",
       "      <td>66.900000</td>\n",
       "      <td>55.500000</td>\n",
       "      <td>2935.000000</td>\n",
       "      <td>141.000000</td>\n",
       "      <td>3.580000</td>\n",
       "      <td>3.410000</td>\n",
       "      <td>9.400000</td>\n",
       "      <td>116.000000</td>\n",
       "      <td>5500.000000</td>\n",
       "      <td>30.000000</td>\n",
       "      <td>34.000000</td>\n",
       "      <td>16503.000000</td>\n",
       "    </tr>\n",
       "    <tr>\n",
       "      <th>max</th>\n",
       "      <td>205.000000</td>\n",
       "      <td>3.000000</td>\n",
       "      <td>120.900000</td>\n",
       "      <td>208.100000</td>\n",
       "      <td>72.300000</td>\n",
       "      <td>59.800000</td>\n",
       "      <td>4066.000000</td>\n",
       "      <td>326.000000</td>\n",
       "      <td>3.940000</td>\n",
       "      <td>4.170000</td>\n",
       "      <td>23.000000</td>\n",
       "      <td>288.000000</td>\n",
       "      <td>6600.000000</td>\n",
       "      <td>49.000000</td>\n",
       "      <td>54.000000</td>\n",
       "      <td>45400.000000</td>\n",
       "    </tr>\n",
       "  </tbody>\n",
       "</table>\n",
       "</div>"
      ],
      "text/plain": [
       "           car_ID   symboling   wheelbase   carlength    carwidth   carheight  \\\n",
       "count  205.000000  205.000000  205.000000  205.000000  205.000000  205.000000   \n",
       "mean   103.000000    0.834146   98.756585  174.049268   65.907805   53.724878   \n",
       "std     59.322565    1.245307    6.021776   12.337289    2.145204    2.443522   \n",
       "min      1.000000   -2.000000   86.600000  141.100000   60.300000   47.800000   \n",
       "25%     52.000000    0.000000   94.500000  166.300000   64.100000   52.000000   \n",
       "50%    103.000000    1.000000   97.000000  173.200000   65.500000   54.100000   \n",
       "75%    154.000000    2.000000  102.400000  183.100000   66.900000   55.500000   \n",
       "max    205.000000    3.000000  120.900000  208.100000   72.300000   59.800000   \n",
       "\n",
       "        curbweight  enginesize   boreratio      stroke  compressionratio  \\\n",
       "count   205.000000  205.000000  205.000000  205.000000        205.000000   \n",
       "mean   2555.565854  126.907317    3.329756    3.255415         10.142537   \n",
       "std     520.680204   41.642693    0.270844    0.313597          3.972040   \n",
       "min    1488.000000   61.000000    2.540000    2.070000          7.000000   \n",
       "25%    2145.000000   97.000000    3.150000    3.110000          8.600000   \n",
       "50%    2414.000000  120.000000    3.310000    3.290000          9.000000   \n",
       "75%    2935.000000  141.000000    3.580000    3.410000          9.400000   \n",
       "max    4066.000000  326.000000    3.940000    4.170000         23.000000   \n",
       "\n",
       "       horsepower      peakrpm     citympg  highwaympg         price  \n",
       "count  205.000000   205.000000  205.000000  205.000000    205.000000  \n",
       "mean   104.117073  5125.121951   25.219512   30.751220  13276.710571  \n",
       "std     39.544167   476.985643    6.542142    6.886443   7988.852332  \n",
       "min     48.000000  4150.000000   13.000000   16.000000   5118.000000  \n",
       "25%     70.000000  4800.000000   19.000000   25.000000   7788.000000  \n",
       "50%     95.000000  5200.000000   24.000000   30.000000  10295.000000  \n",
       "75%    116.000000  5500.000000   30.000000   34.000000  16503.000000  \n",
       "max    288.000000  6600.000000   49.000000   54.000000  45400.000000  "
      ]
     },
     "execution_count": 10,
     "metadata": {},
     "output_type": "execute_result"
    }
   ],
   "source": [
    "#Descriptive Statistics\n",
    "cars.describe()"
   ]
  },
  {
   "cell_type": "code",
   "execution_count": 11,
   "id": "5252cd7e",
   "metadata": {
    "scrolled": true
   },
   "outputs": [
    {
     "data": {
      "text/html": [
       "<div>\n",
       "<style scoped>\n",
       "    .dataframe tbody tr th:only-of-type {\n",
       "        vertical-align: middle;\n",
       "    }\n",
       "\n",
       "    .dataframe tbody tr th {\n",
       "        vertical-align: top;\n",
       "    }\n",
       "\n",
       "    .dataframe thead th {\n",
       "        text-align: right;\n",
       "    }\n",
       "</style>\n",
       "<table border=\"1\" class=\"dataframe\">\n",
       "  <thead>\n",
       "    <tr style=\"text-align: right;\">\n",
       "      <th></th>\n",
       "      <th>CarName</th>\n",
       "      <th>fueltype</th>\n",
       "      <th>aspiration</th>\n",
       "      <th>doornumber</th>\n",
       "      <th>carbody</th>\n",
       "      <th>drivewheel</th>\n",
       "      <th>enginelocation</th>\n",
       "      <th>enginetype</th>\n",
       "      <th>cylindernumber</th>\n",
       "      <th>fuelsystem</th>\n",
       "    </tr>\n",
       "  </thead>\n",
       "  <tbody>\n",
       "    <tr>\n",
       "      <th>count</th>\n",
       "      <td>205</td>\n",
       "      <td>205</td>\n",
       "      <td>205</td>\n",
       "      <td>205</td>\n",
       "      <td>205</td>\n",
       "      <td>205</td>\n",
       "      <td>205</td>\n",
       "      <td>205</td>\n",
       "      <td>205</td>\n",
       "      <td>205</td>\n",
       "    </tr>\n",
       "    <tr>\n",
       "      <th>unique</th>\n",
       "      <td>147</td>\n",
       "      <td>2</td>\n",
       "      <td>2</td>\n",
       "      <td>2</td>\n",
       "      <td>5</td>\n",
       "      <td>3</td>\n",
       "      <td>2</td>\n",
       "      <td>7</td>\n",
       "      <td>7</td>\n",
       "      <td>8</td>\n",
       "    </tr>\n",
       "    <tr>\n",
       "      <th>top</th>\n",
       "      <td>toyota corona</td>\n",
       "      <td>gas</td>\n",
       "      <td>std</td>\n",
       "      <td>four</td>\n",
       "      <td>sedan</td>\n",
       "      <td>fwd</td>\n",
       "      <td>front</td>\n",
       "      <td>ohc</td>\n",
       "      <td>four</td>\n",
       "      <td>mpfi</td>\n",
       "    </tr>\n",
       "    <tr>\n",
       "      <th>freq</th>\n",
       "      <td>6</td>\n",
       "      <td>185</td>\n",
       "      <td>168</td>\n",
       "      <td>115</td>\n",
       "      <td>96</td>\n",
       "      <td>120</td>\n",
       "      <td>202</td>\n",
       "      <td>148</td>\n",
       "      <td>159</td>\n",
       "      <td>94</td>\n",
       "    </tr>\n",
       "  </tbody>\n",
       "</table>\n",
       "</div>"
      ],
      "text/plain": [
       "              CarName fueltype aspiration doornumber carbody drivewheel  \\\n",
       "count             205      205        205        205     205        205   \n",
       "unique            147        2          2          2       5          3   \n",
       "top     toyota corona      gas        std       four   sedan        fwd   \n",
       "freq                6      185        168        115      96        120   \n",
       "\n",
       "       enginelocation enginetype cylindernumber fuelsystem  \n",
       "count             205        205            205        205  \n",
       "unique              2          7              7          8  \n",
       "top             front        ohc           four       mpfi  \n",
       "freq              202        148            159         94  "
      ]
     },
     "execution_count": 11,
     "metadata": {},
     "output_type": "execute_result"
    }
   ],
   "source": [
    "#Descriptive Statistics for categorical variables\n",
    "cars.describe(include=['object'])"
   ]
  },
  {
   "cell_type": "markdown",
   "id": "e6b9480e",
   "metadata": {},
   "source": [
    "### Step 2: Data cleaning and preparation"
   ]
  },
  {
   "cell_type": "code",
   "execution_count": 12,
   "id": "a2639778",
   "metadata": {},
   "outputs": [],
   "source": [
    "#Function for finding percentage of missing values in each column\n",
    "def missing_values_table(data): \n",
    "    mis_val = data.isnull().sum()\n",
    "    mis_val_percent = 100 * data.isnull().sum()/len(data)\n",
    "    mis_val_table = pd.concat([mis_val, mis_val_percent], axis=1)\n",
    "    mis_val_table_ren_columns = mis_val_table.rename(\n",
    "    columns = {0 : 'Missing Values', 1 : '% of Total Values'})\n",
    "    return mis_val_table_ren_columns"
   ]
  },
  {
   "cell_type": "code",
   "execution_count": 13,
   "id": "9e946ee2",
   "metadata": {},
   "outputs": [
    {
     "data": {
      "text/html": [
       "<div>\n",
       "<style scoped>\n",
       "    .dataframe tbody tr th:only-of-type {\n",
       "        vertical-align: middle;\n",
       "    }\n",
       "\n",
       "    .dataframe tbody tr th {\n",
       "        vertical-align: top;\n",
       "    }\n",
       "\n",
       "    .dataframe thead th {\n",
       "        text-align: right;\n",
       "    }\n",
       "</style>\n",
       "<table border=\"1\" class=\"dataframe\">\n",
       "  <thead>\n",
       "    <tr style=\"text-align: right;\">\n",
       "      <th></th>\n",
       "      <th>Missing Values</th>\n",
       "      <th>% of Total Values</th>\n",
       "    </tr>\n",
       "  </thead>\n",
       "  <tbody>\n",
       "    <tr>\n",
       "      <th>car_ID</th>\n",
       "      <td>0</td>\n",
       "      <td>0.0</td>\n",
       "    </tr>\n",
       "    <tr>\n",
       "      <th>symboling</th>\n",
       "      <td>0</td>\n",
       "      <td>0.0</td>\n",
       "    </tr>\n",
       "    <tr>\n",
       "      <th>CarName</th>\n",
       "      <td>0</td>\n",
       "      <td>0.0</td>\n",
       "    </tr>\n",
       "    <tr>\n",
       "      <th>fueltype</th>\n",
       "      <td>0</td>\n",
       "      <td>0.0</td>\n",
       "    </tr>\n",
       "    <tr>\n",
       "      <th>aspiration</th>\n",
       "      <td>0</td>\n",
       "      <td>0.0</td>\n",
       "    </tr>\n",
       "    <tr>\n",
       "      <th>doornumber</th>\n",
       "      <td>0</td>\n",
       "      <td>0.0</td>\n",
       "    </tr>\n",
       "    <tr>\n",
       "      <th>carbody</th>\n",
       "      <td>0</td>\n",
       "      <td>0.0</td>\n",
       "    </tr>\n",
       "    <tr>\n",
       "      <th>drivewheel</th>\n",
       "      <td>0</td>\n",
       "      <td>0.0</td>\n",
       "    </tr>\n",
       "    <tr>\n",
       "      <th>enginelocation</th>\n",
       "      <td>0</td>\n",
       "      <td>0.0</td>\n",
       "    </tr>\n",
       "    <tr>\n",
       "      <th>wheelbase</th>\n",
       "      <td>0</td>\n",
       "      <td>0.0</td>\n",
       "    </tr>\n",
       "    <tr>\n",
       "      <th>carlength</th>\n",
       "      <td>0</td>\n",
       "      <td>0.0</td>\n",
       "    </tr>\n",
       "    <tr>\n",
       "      <th>carwidth</th>\n",
       "      <td>0</td>\n",
       "      <td>0.0</td>\n",
       "    </tr>\n",
       "    <tr>\n",
       "      <th>carheight</th>\n",
       "      <td>0</td>\n",
       "      <td>0.0</td>\n",
       "    </tr>\n",
       "    <tr>\n",
       "      <th>curbweight</th>\n",
       "      <td>0</td>\n",
       "      <td>0.0</td>\n",
       "    </tr>\n",
       "    <tr>\n",
       "      <th>enginetype</th>\n",
       "      <td>0</td>\n",
       "      <td>0.0</td>\n",
       "    </tr>\n",
       "    <tr>\n",
       "      <th>cylindernumber</th>\n",
       "      <td>0</td>\n",
       "      <td>0.0</td>\n",
       "    </tr>\n",
       "    <tr>\n",
       "      <th>enginesize</th>\n",
       "      <td>0</td>\n",
       "      <td>0.0</td>\n",
       "    </tr>\n",
       "    <tr>\n",
       "      <th>fuelsystem</th>\n",
       "      <td>0</td>\n",
       "      <td>0.0</td>\n",
       "    </tr>\n",
       "    <tr>\n",
       "      <th>boreratio</th>\n",
       "      <td>0</td>\n",
       "      <td>0.0</td>\n",
       "    </tr>\n",
       "    <tr>\n",
       "      <th>stroke</th>\n",
       "      <td>0</td>\n",
       "      <td>0.0</td>\n",
       "    </tr>\n",
       "    <tr>\n",
       "      <th>compressionratio</th>\n",
       "      <td>0</td>\n",
       "      <td>0.0</td>\n",
       "    </tr>\n",
       "    <tr>\n",
       "      <th>horsepower</th>\n",
       "      <td>0</td>\n",
       "      <td>0.0</td>\n",
       "    </tr>\n",
       "    <tr>\n",
       "      <th>peakrpm</th>\n",
       "      <td>0</td>\n",
       "      <td>0.0</td>\n",
       "    </tr>\n",
       "    <tr>\n",
       "      <th>citympg</th>\n",
       "      <td>0</td>\n",
       "      <td>0.0</td>\n",
       "    </tr>\n",
       "    <tr>\n",
       "      <th>highwaympg</th>\n",
       "      <td>0</td>\n",
       "      <td>0.0</td>\n",
       "    </tr>\n",
       "    <tr>\n",
       "      <th>price</th>\n",
       "      <td>0</td>\n",
       "      <td>0.0</td>\n",
       "    </tr>\n",
       "  </tbody>\n",
       "</table>\n",
       "</div>"
      ],
      "text/plain": [
       "                  Missing Values  % of Total Values\n",
       "car_ID                         0                0.0\n",
       "symboling                      0                0.0\n",
       "CarName                        0                0.0\n",
       "fueltype                       0                0.0\n",
       "aspiration                     0                0.0\n",
       "doornumber                     0                0.0\n",
       "carbody                        0                0.0\n",
       "drivewheel                     0                0.0\n",
       "enginelocation                 0                0.0\n",
       "wheelbase                      0                0.0\n",
       "carlength                      0                0.0\n",
       "carwidth                       0                0.0\n",
       "carheight                      0                0.0\n",
       "curbweight                     0                0.0\n",
       "enginetype                     0                0.0\n",
       "cylindernumber                 0                0.0\n",
       "enginesize                     0                0.0\n",
       "fuelsystem                     0                0.0\n",
       "boreratio                      0                0.0\n",
       "stroke                         0                0.0\n",
       "compressionratio               0                0.0\n",
       "horsepower                     0                0.0\n",
       "peakrpm                        0                0.0\n",
       "citympg                        0                0.0\n",
       "highwaympg                     0                0.0\n",
       "price                          0                0.0"
      ]
     },
     "execution_count": 13,
     "metadata": {},
     "output_type": "execute_result"
    }
   ],
   "source": [
    "missing_values_table(cars)"
   ]
  },
  {
   "cell_type": "markdown",
   "id": "17b9f77c",
   "metadata": {},
   "source": [
    "**Inference:** Null values absent."
   ]
  },
  {
   "cell_type": "code",
   "execution_count": 14,
   "id": "f22a2027",
   "metadata": {},
   "outputs": [
    {
     "data": {
      "text/plain": [
       "car_ID              205\n",
       "symboling             6\n",
       "CarName             147\n",
       "fueltype              2\n",
       "aspiration            2\n",
       "doornumber            2\n",
       "carbody               5\n",
       "drivewheel            3\n",
       "enginelocation        2\n",
       "wheelbase            53\n",
       "carlength            75\n",
       "carwidth             44\n",
       "carheight            49\n",
       "curbweight          171\n",
       "enginetype            7\n",
       "cylindernumber        7\n",
       "enginesize           44\n",
       "fuelsystem            8\n",
       "boreratio            38\n",
       "stroke               37\n",
       "compressionratio     32\n",
       "horsepower           59\n",
       "peakrpm              23\n",
       "citympg              29\n",
       "highwaympg           30\n",
       "price               189\n",
       "dtype: int64"
      ]
     },
     "execution_count": 14,
     "metadata": {},
     "output_type": "execute_result"
    }
   ],
   "source": [
    "#Looking for no:of unique values in each column\n",
    "cars.nunique()"
   ]
  },
  {
   "cell_type": "code",
   "execution_count": 15,
   "id": "8823350b",
   "metadata": {},
   "outputs": [],
   "source": [
    "car_name = cars.CarName"
   ]
  },
  {
   "cell_type": "code",
   "execution_count": 16,
   "id": "c3c74c5b",
   "metadata": {},
   "outputs": [
    {
     "name": "stdout",
     "output_type": "stream",
     "text": [
      "['alfa-romero giulia', 'alfa-romero stelvio', 'alfa-romero Quadrifoglio', 'audi 100 ls', 'audi 100ls', 'audi fox', 'audi 5000', 'audi 4000', 'audi 5000s (diesel)', 'bmw 320i', 'bmw x1', 'bmw x3', 'bmw z4', 'bmw x4', 'bmw x5', 'chevrolet impala', 'chevrolet monte carlo', 'chevrolet vega 2300', 'dodge rampage', 'dodge challenger se', 'dodge d200', 'dodge monaco (sw)', 'dodge colt hardtop', 'dodge colt (sw)', 'dodge coronet custom', 'dodge dart custom', 'dodge coronet custom (sw)', 'honda civic', 'honda civic cvcc', 'honda accord cvcc', 'honda accord lx', 'honda civic 1500 gl', 'honda accord', 'honda civic 1300', 'honda prelude', 'honda civic (auto)', 'isuzu MU-X', 'isuzu D-Max ', 'isuzu D-Max V-Cross', 'jaguar xj', 'jaguar xf', 'jaguar xk', 'maxda rx3', 'maxda glc deluxe', 'mazda rx2 coupe', 'mazda rx-4', 'mazda glc deluxe', 'mazda 626', 'mazda glc', 'mazda rx-7 gs', 'mazda glc 4', 'mazda glc custom l', 'mazda glc custom', 'buick electra 225 custom', 'buick century luxus (sw)', 'buick century', 'buick skyhawk', 'buick opel isuzu deluxe', 'buick skylark', 'buick century special', 'buick regal sport coupe (turbo)', 'mercury cougar', 'mitsubishi mirage', 'mitsubishi lancer', 'mitsubishi outlander', 'mitsubishi g4', 'mitsubishi mirage g4', 'mitsubishi montero', 'mitsubishi pajero', 'Nissan versa', 'nissan gt-r', 'nissan rogue', 'nissan latio', 'nissan titan', 'nissan leaf', 'nissan juke', 'nissan note', 'nissan clipper', 'nissan nv200', 'nissan dayz', 'nissan fuga', 'nissan otti', 'nissan teana', 'nissan kicks', 'peugeot 504', 'peugeot 304', 'peugeot 504 (sw)', 'peugeot 604sl', 'peugeot 505s turbo diesel', 'plymouth fury iii', 'plymouth cricket', 'plymouth satellite custom (sw)', 'plymouth fury gran sedan', 'plymouth valiant', 'plymouth duster', 'porsche macan', 'porcshce panamera', 'porsche cayenne', 'porsche boxter', 'renault 12tl', 'renault 5 gtl', 'saab 99e', 'saab 99le', 'saab 99gle', 'subaru', 'subaru dl', 'subaru brz', 'subaru baja', 'subaru r1', 'subaru r2', 'subaru trezia', 'subaru tribeca', 'toyota corona mark ii', 'toyota corona', 'toyota corolla 1200', 'toyota corona hardtop', 'toyota corolla 1600 (sw)', 'toyota carina', 'toyota mark ii', 'toyota corolla', 'toyota corolla liftback', 'toyota celica gt liftback', 'toyota corolla tercel', 'toyota corona liftback', 'toyota starlet', 'toyota tercel', 'toyota cressida', 'toyota celica gt', 'toyouta tercel', 'vokswagen rabbit', 'volkswagen 1131 deluxe sedan', 'volkswagen model 111', 'volkswagen type 3', 'volkswagen 411 (sw)', 'volkswagen super beetle', 'volkswagen dasher', 'vw dasher', 'vw rabbit', 'volkswagen rabbit', 'volkswagen rabbit custom', 'volvo 145e (sw)', 'volvo 144ea', 'volvo 244dl', 'volvo 245', 'volvo 264gl', 'volvo diesel', 'volvo 246']\n"
     ]
    }
   ],
   "source": [
    "# Get the unique values in the CarName column\n",
    "unique_names = list(car_name.drop_duplicates())\n",
    "\n",
    "# Print the unique names\n",
    "print(unique_names)"
   ]
  },
  {
   "cell_type": "code",
   "execution_count": 17,
   "id": "ff9552d8",
   "metadata": {},
   "outputs": [
    {
     "data": {
      "text/html": [
       "<div>\n",
       "<style scoped>\n",
       "    .dataframe tbody tr th:only-of-type {\n",
       "        vertical-align: middle;\n",
       "    }\n",
       "\n",
       "    .dataframe tbody tr th {\n",
       "        vertical-align: top;\n",
       "    }\n",
       "\n",
       "    .dataframe thead th {\n",
       "        text-align: right;\n",
       "    }\n",
       "</style>\n",
       "<table border=\"1\" class=\"dataframe\">\n",
       "  <thead>\n",
       "    <tr style=\"text-align: right;\">\n",
       "      <th></th>\n",
       "      <th>car_ID</th>\n",
       "      <th>symboling</th>\n",
       "      <th>CompanyName</th>\n",
       "      <th>fueltype</th>\n",
       "      <th>aspiration</th>\n",
       "      <th>doornumber</th>\n",
       "      <th>carbody</th>\n",
       "      <th>drivewheel</th>\n",
       "      <th>enginelocation</th>\n",
       "      <th>wheelbase</th>\n",
       "      <th>...</th>\n",
       "      <th>enginesize</th>\n",
       "      <th>fuelsystem</th>\n",
       "      <th>boreratio</th>\n",
       "      <th>stroke</th>\n",
       "      <th>compressionratio</th>\n",
       "      <th>horsepower</th>\n",
       "      <th>peakrpm</th>\n",
       "      <th>citympg</th>\n",
       "      <th>highwaympg</th>\n",
       "      <th>price</th>\n",
       "    </tr>\n",
       "  </thead>\n",
       "  <tbody>\n",
       "    <tr>\n",
       "      <th>0</th>\n",
       "      <td>1</td>\n",
       "      <td>3</td>\n",
       "      <td>alfa-romero</td>\n",
       "      <td>gas</td>\n",
       "      <td>std</td>\n",
       "      <td>two</td>\n",
       "      <td>convertible</td>\n",
       "      <td>rwd</td>\n",
       "      <td>front</td>\n",
       "      <td>88.6</td>\n",
       "      <td>...</td>\n",
       "      <td>130</td>\n",
       "      <td>mpfi</td>\n",
       "      <td>3.47</td>\n",
       "      <td>2.68</td>\n",
       "      <td>9.0</td>\n",
       "      <td>111</td>\n",
       "      <td>5000</td>\n",
       "      <td>21</td>\n",
       "      <td>27</td>\n",
       "      <td>13495.0</td>\n",
       "    </tr>\n",
       "    <tr>\n",
       "      <th>1</th>\n",
       "      <td>2</td>\n",
       "      <td>3</td>\n",
       "      <td>alfa-romero</td>\n",
       "      <td>gas</td>\n",
       "      <td>std</td>\n",
       "      <td>two</td>\n",
       "      <td>convertible</td>\n",
       "      <td>rwd</td>\n",
       "      <td>front</td>\n",
       "      <td>88.6</td>\n",
       "      <td>...</td>\n",
       "      <td>130</td>\n",
       "      <td>mpfi</td>\n",
       "      <td>3.47</td>\n",
       "      <td>2.68</td>\n",
       "      <td>9.0</td>\n",
       "      <td>111</td>\n",
       "      <td>5000</td>\n",
       "      <td>21</td>\n",
       "      <td>27</td>\n",
       "      <td>16500.0</td>\n",
       "    </tr>\n",
       "    <tr>\n",
       "      <th>2</th>\n",
       "      <td>3</td>\n",
       "      <td>1</td>\n",
       "      <td>alfa-romero</td>\n",
       "      <td>gas</td>\n",
       "      <td>std</td>\n",
       "      <td>two</td>\n",
       "      <td>hatchback</td>\n",
       "      <td>rwd</td>\n",
       "      <td>front</td>\n",
       "      <td>94.5</td>\n",
       "      <td>...</td>\n",
       "      <td>152</td>\n",
       "      <td>mpfi</td>\n",
       "      <td>2.68</td>\n",
       "      <td>3.47</td>\n",
       "      <td>9.0</td>\n",
       "      <td>154</td>\n",
       "      <td>5000</td>\n",
       "      <td>19</td>\n",
       "      <td>26</td>\n",
       "      <td>16500.0</td>\n",
       "    </tr>\n",
       "    <tr>\n",
       "      <th>3</th>\n",
       "      <td>4</td>\n",
       "      <td>2</td>\n",
       "      <td>audi</td>\n",
       "      <td>gas</td>\n",
       "      <td>std</td>\n",
       "      <td>four</td>\n",
       "      <td>sedan</td>\n",
       "      <td>fwd</td>\n",
       "      <td>front</td>\n",
       "      <td>99.8</td>\n",
       "      <td>...</td>\n",
       "      <td>109</td>\n",
       "      <td>mpfi</td>\n",
       "      <td>3.19</td>\n",
       "      <td>3.40</td>\n",
       "      <td>10.0</td>\n",
       "      <td>102</td>\n",
       "      <td>5500</td>\n",
       "      <td>24</td>\n",
       "      <td>30</td>\n",
       "      <td>13950.0</td>\n",
       "    </tr>\n",
       "    <tr>\n",
       "      <th>4</th>\n",
       "      <td>5</td>\n",
       "      <td>2</td>\n",
       "      <td>audi</td>\n",
       "      <td>gas</td>\n",
       "      <td>std</td>\n",
       "      <td>four</td>\n",
       "      <td>sedan</td>\n",
       "      <td>4wd</td>\n",
       "      <td>front</td>\n",
       "      <td>99.4</td>\n",
       "      <td>...</td>\n",
       "      <td>136</td>\n",
       "      <td>mpfi</td>\n",
       "      <td>3.19</td>\n",
       "      <td>3.40</td>\n",
       "      <td>8.0</td>\n",
       "      <td>115</td>\n",
       "      <td>5500</td>\n",
       "      <td>18</td>\n",
       "      <td>22</td>\n",
       "      <td>17450.0</td>\n",
       "    </tr>\n",
       "  </tbody>\n",
       "</table>\n",
       "<p>5 rows × 26 columns</p>\n",
       "</div>"
      ],
      "text/plain": [
       "   car_ID  symboling  CompanyName fueltype aspiration doornumber      carbody  \\\n",
       "0       1          3  alfa-romero      gas        std        two  convertible   \n",
       "1       2          3  alfa-romero      gas        std        two  convertible   \n",
       "2       3          1  alfa-romero      gas        std        two    hatchback   \n",
       "3       4          2         audi      gas        std       four        sedan   \n",
       "4       5          2         audi      gas        std       four        sedan   \n",
       "\n",
       "  drivewheel enginelocation  wheelbase  ...  enginesize  fuelsystem  \\\n",
       "0        rwd          front       88.6  ...         130        mpfi   \n",
       "1        rwd          front       88.6  ...         130        mpfi   \n",
       "2        rwd          front       94.5  ...         152        mpfi   \n",
       "3        fwd          front       99.8  ...         109        mpfi   \n",
       "4        4wd          front       99.4  ...         136        mpfi   \n",
       "\n",
       "   boreratio  stroke compressionratio horsepower  peakrpm citympg  highwaympg  \\\n",
       "0       3.47    2.68              9.0        111     5000      21          27   \n",
       "1       3.47    2.68              9.0        111     5000      21          27   \n",
       "2       2.68    3.47              9.0        154     5000      19          26   \n",
       "3       3.19    3.40             10.0        102     5500      24          30   \n",
       "4       3.19    3.40              8.0        115     5500      18          22   \n",
       "\n",
       "     price  \n",
       "0  13495.0  \n",
       "1  16500.0  \n",
       "2  16500.0  \n",
       "3  13950.0  \n",
       "4  17450.0  \n",
       "\n",
       "[5 rows x 26 columns]"
      ]
     },
     "execution_count": 17,
     "metadata": {},
     "output_type": "execute_result"
    }
   ],
   "source": [
    "#Splitting company name from CarName column\n",
    "CompanyName = cars['CarName'].apply(lambda x : x.split(' ')[0])\n",
    "cars.insert(3,\"CompanyName\",CompanyName)\n",
    "cars.drop(['CarName'],axis=1,inplace=True)\n",
    "cars.head()"
   ]
  },
  {
   "cell_type": "code",
   "execution_count": 18,
   "id": "20586b0e",
   "metadata": {},
   "outputs": [
    {
     "data": {
      "text/plain": [
       "array(['alfa-romero', 'audi', 'bmw', 'chevrolet', 'dodge', 'honda',\n",
       "       'isuzu', 'jaguar', 'maxda', 'mazda', 'buick', 'mercury',\n",
       "       'mitsubishi', 'Nissan', 'nissan', 'peugeot', 'plymouth', 'porsche',\n",
       "       'porcshce', 'renault', 'saab', 'subaru', 'toyota', 'toyouta',\n",
       "       'vokswagen', 'volkswagen', 'vw', 'volvo'], dtype=object)"
      ]
     },
     "execution_count": 18,
     "metadata": {},
     "output_type": "execute_result"
    }
   ],
   "source": [
    "#Diffrent company names present in the column \n",
    "cars.CompanyName.unique()"
   ]
  },
  {
   "cell_type": "code",
   "execution_count": 19,
   "id": "98761d85",
   "metadata": {},
   "outputs": [],
   "source": [
    "unique_values = []\n",
    "\n",
    "# Loop through each element in the column\n",
    "for value in cars.CompanyName:\n",
    "    # If the value is not already in the unique_values list, add it\n",
    "    if value not in unique_values:\n",
    "        unique_values.append(value)"
   ]
  },
  {
   "cell_type": "code",
   "execution_count": 20,
   "id": "a4f61428",
   "metadata": {
    "scrolled": true
   },
   "outputs": [
    {
     "name": "stdout",
     "output_type": "stream",
     "text": [
      "['alfa-romero', 'audi', 'bmw', 'chevrolet', 'dodge', 'honda', 'isuzu', 'jaguar', 'maxda', 'mazda', 'buick', 'mercury', 'mitsubishi', 'Nissan', 'nissan', 'peugeot', 'plymouth', 'porsche', 'porcshce', 'renault', 'saab', 'subaru', 'toyota', 'toyouta', 'vokswagen', 'volkswagen', 'vw', 'volvo']\n"
     ]
    }
   ],
   "source": [
    "print(unique_values)"
   ]
  },
  {
   "cell_type": "code",
   "execution_count": 21,
   "id": "ff5b0793",
   "metadata": {},
   "outputs": [],
   "source": [
    "#Replacing the repeating brand names\n",
    "cars = cars.replace('maxda','mazda')\n",
    "cars = cars.replace('porcshce','porsche')\n",
    "cars = cars.replace('toyouta','toyota')\n",
    "cars = cars.replace('vokswagen','volkswagen')\n",
    "cars = cars.replace('vw','volkswagen')"
   ]
  },
  {
   "cell_type": "code",
   "execution_count": 22,
   "id": "baaa3cc4",
   "metadata": {},
   "outputs": [
    {
     "data": {
      "text/plain": [
       "array(['alfa-romero', 'audi', 'bmw', 'chevrolet', 'dodge', 'honda',\n",
       "       'isuzu', 'jaguar', 'mazda', 'buick', 'mercury', 'mitsubishi',\n",
       "       'Nissan', 'nissan', 'peugeot', 'plymouth', 'porsche', 'renault',\n",
       "       'saab', 'subaru', 'toyota', 'volkswagen', 'volvo'], dtype=object)"
      ]
     },
     "execution_count": 22,
     "metadata": {},
     "output_type": "execute_result"
    }
   ],
   "source": [
    "cars.CompanyName.unique()\n",
    "#Replaced the values"
   ]
  },
  {
   "cell_type": "code",
   "execution_count": 23,
   "id": "8a08a41e",
   "metadata": {},
   "outputs": [],
   "source": [
    "# Detect Outliers\n",
    "\n",
    "def Outliers(df,cols):\n",
    "  outliers = []\n",
    "  for c in cols:\n",
    "    Q1 = df[c].quantile(.25)\n",
    "    Q3 = df[c].quantile(.75)\n",
    "    IQR = Q3 - Q1\n",
    "    step = 1.5*IQR\n",
    "    df = df[~((df[c] < (Q1 - step)) | (df[c] >  (Q3 + step)))]\n",
    "    return df"
   ]
  },
  {
   "cell_type": "code",
   "execution_count": 24,
   "id": "4c8c5102",
   "metadata": {},
   "outputs": [],
   "source": [
    "cols = cars.select_dtypes(include = ('int64','float64','int32'))"
   ]
  },
  {
   "cell_type": "code",
   "execution_count": 25,
   "id": "3610e3d4",
   "metadata": {
    "scrolled": true
   },
   "outputs": [
    {
     "data": {
      "text/html": [
       "<div>\n",
       "<style scoped>\n",
       "    .dataframe tbody tr th:only-of-type {\n",
       "        vertical-align: middle;\n",
       "    }\n",
       "\n",
       "    .dataframe tbody tr th {\n",
       "        vertical-align: top;\n",
       "    }\n",
       "\n",
       "    .dataframe thead th {\n",
       "        text-align: right;\n",
       "    }\n",
       "</style>\n",
       "<table border=\"1\" class=\"dataframe\">\n",
       "  <thead>\n",
       "    <tr style=\"text-align: right;\">\n",
       "      <th></th>\n",
       "      <th>car_ID</th>\n",
       "      <th>symboling</th>\n",
       "      <th>CompanyName</th>\n",
       "      <th>fueltype</th>\n",
       "      <th>aspiration</th>\n",
       "      <th>doornumber</th>\n",
       "      <th>carbody</th>\n",
       "      <th>drivewheel</th>\n",
       "      <th>enginelocation</th>\n",
       "      <th>wheelbase</th>\n",
       "      <th>...</th>\n",
       "      <th>enginesize</th>\n",
       "      <th>fuelsystem</th>\n",
       "      <th>boreratio</th>\n",
       "      <th>stroke</th>\n",
       "      <th>compressionratio</th>\n",
       "      <th>horsepower</th>\n",
       "      <th>peakrpm</th>\n",
       "      <th>citympg</th>\n",
       "      <th>highwaympg</th>\n",
       "      <th>price</th>\n",
       "    </tr>\n",
       "  </thead>\n",
       "  <tbody>\n",
       "    <tr>\n",
       "      <th>0</th>\n",
       "      <td>1</td>\n",
       "      <td>3</td>\n",
       "      <td>alfa-romero</td>\n",
       "      <td>gas</td>\n",
       "      <td>std</td>\n",
       "      <td>two</td>\n",
       "      <td>convertible</td>\n",
       "      <td>rwd</td>\n",
       "      <td>front</td>\n",
       "      <td>88.6</td>\n",
       "      <td>...</td>\n",
       "      <td>130</td>\n",
       "      <td>mpfi</td>\n",
       "      <td>3.47</td>\n",
       "      <td>2.68</td>\n",
       "      <td>9.0</td>\n",
       "      <td>111</td>\n",
       "      <td>5000</td>\n",
       "      <td>21</td>\n",
       "      <td>27</td>\n",
       "      <td>13495.0</td>\n",
       "    </tr>\n",
       "    <tr>\n",
       "      <th>1</th>\n",
       "      <td>2</td>\n",
       "      <td>3</td>\n",
       "      <td>alfa-romero</td>\n",
       "      <td>gas</td>\n",
       "      <td>std</td>\n",
       "      <td>two</td>\n",
       "      <td>convertible</td>\n",
       "      <td>rwd</td>\n",
       "      <td>front</td>\n",
       "      <td>88.6</td>\n",
       "      <td>...</td>\n",
       "      <td>130</td>\n",
       "      <td>mpfi</td>\n",
       "      <td>3.47</td>\n",
       "      <td>2.68</td>\n",
       "      <td>9.0</td>\n",
       "      <td>111</td>\n",
       "      <td>5000</td>\n",
       "      <td>21</td>\n",
       "      <td>27</td>\n",
       "      <td>16500.0</td>\n",
       "    </tr>\n",
       "    <tr>\n",
       "      <th>2</th>\n",
       "      <td>3</td>\n",
       "      <td>1</td>\n",
       "      <td>alfa-romero</td>\n",
       "      <td>gas</td>\n",
       "      <td>std</td>\n",
       "      <td>two</td>\n",
       "      <td>hatchback</td>\n",
       "      <td>rwd</td>\n",
       "      <td>front</td>\n",
       "      <td>94.5</td>\n",
       "      <td>...</td>\n",
       "      <td>152</td>\n",
       "      <td>mpfi</td>\n",
       "      <td>2.68</td>\n",
       "      <td>3.47</td>\n",
       "      <td>9.0</td>\n",
       "      <td>154</td>\n",
       "      <td>5000</td>\n",
       "      <td>19</td>\n",
       "      <td>26</td>\n",
       "      <td>16500.0</td>\n",
       "    </tr>\n",
       "    <tr>\n",
       "      <th>3</th>\n",
       "      <td>4</td>\n",
       "      <td>2</td>\n",
       "      <td>audi</td>\n",
       "      <td>gas</td>\n",
       "      <td>std</td>\n",
       "      <td>four</td>\n",
       "      <td>sedan</td>\n",
       "      <td>fwd</td>\n",
       "      <td>front</td>\n",
       "      <td>99.8</td>\n",
       "      <td>...</td>\n",
       "      <td>109</td>\n",
       "      <td>mpfi</td>\n",
       "      <td>3.19</td>\n",
       "      <td>3.40</td>\n",
       "      <td>10.0</td>\n",
       "      <td>102</td>\n",
       "      <td>5500</td>\n",
       "      <td>24</td>\n",
       "      <td>30</td>\n",
       "      <td>13950.0</td>\n",
       "    </tr>\n",
       "    <tr>\n",
       "      <th>4</th>\n",
       "      <td>5</td>\n",
       "      <td>2</td>\n",
       "      <td>audi</td>\n",
       "      <td>gas</td>\n",
       "      <td>std</td>\n",
       "      <td>four</td>\n",
       "      <td>sedan</td>\n",
       "      <td>4wd</td>\n",
       "      <td>front</td>\n",
       "      <td>99.4</td>\n",
       "      <td>...</td>\n",
       "      <td>136</td>\n",
       "      <td>mpfi</td>\n",
       "      <td>3.19</td>\n",
       "      <td>3.40</td>\n",
       "      <td>8.0</td>\n",
       "      <td>115</td>\n",
       "      <td>5500</td>\n",
       "      <td>18</td>\n",
       "      <td>22</td>\n",
       "      <td>17450.0</td>\n",
       "    </tr>\n",
       "    <tr>\n",
       "      <th>...</th>\n",
       "      <td>...</td>\n",
       "      <td>...</td>\n",
       "      <td>...</td>\n",
       "      <td>...</td>\n",
       "      <td>...</td>\n",
       "      <td>...</td>\n",
       "      <td>...</td>\n",
       "      <td>...</td>\n",
       "      <td>...</td>\n",
       "      <td>...</td>\n",
       "      <td>...</td>\n",
       "      <td>...</td>\n",
       "      <td>...</td>\n",
       "      <td>...</td>\n",
       "      <td>...</td>\n",
       "      <td>...</td>\n",
       "      <td>...</td>\n",
       "      <td>...</td>\n",
       "      <td>...</td>\n",
       "      <td>...</td>\n",
       "      <td>...</td>\n",
       "    </tr>\n",
       "    <tr>\n",
       "      <th>200</th>\n",
       "      <td>201</td>\n",
       "      <td>-1</td>\n",
       "      <td>volvo</td>\n",
       "      <td>gas</td>\n",
       "      <td>std</td>\n",
       "      <td>four</td>\n",
       "      <td>sedan</td>\n",
       "      <td>rwd</td>\n",
       "      <td>front</td>\n",
       "      <td>109.1</td>\n",
       "      <td>...</td>\n",
       "      <td>141</td>\n",
       "      <td>mpfi</td>\n",
       "      <td>3.78</td>\n",
       "      <td>3.15</td>\n",
       "      <td>9.5</td>\n",
       "      <td>114</td>\n",
       "      <td>5400</td>\n",
       "      <td>23</td>\n",
       "      <td>28</td>\n",
       "      <td>16845.0</td>\n",
       "    </tr>\n",
       "    <tr>\n",
       "      <th>201</th>\n",
       "      <td>202</td>\n",
       "      <td>-1</td>\n",
       "      <td>volvo</td>\n",
       "      <td>gas</td>\n",
       "      <td>turbo</td>\n",
       "      <td>four</td>\n",
       "      <td>sedan</td>\n",
       "      <td>rwd</td>\n",
       "      <td>front</td>\n",
       "      <td>109.1</td>\n",
       "      <td>...</td>\n",
       "      <td>141</td>\n",
       "      <td>mpfi</td>\n",
       "      <td>3.78</td>\n",
       "      <td>3.15</td>\n",
       "      <td>8.7</td>\n",
       "      <td>160</td>\n",
       "      <td>5300</td>\n",
       "      <td>19</td>\n",
       "      <td>25</td>\n",
       "      <td>19045.0</td>\n",
       "    </tr>\n",
       "    <tr>\n",
       "      <th>202</th>\n",
       "      <td>203</td>\n",
       "      <td>-1</td>\n",
       "      <td>volvo</td>\n",
       "      <td>gas</td>\n",
       "      <td>std</td>\n",
       "      <td>four</td>\n",
       "      <td>sedan</td>\n",
       "      <td>rwd</td>\n",
       "      <td>front</td>\n",
       "      <td>109.1</td>\n",
       "      <td>...</td>\n",
       "      <td>173</td>\n",
       "      <td>mpfi</td>\n",
       "      <td>3.58</td>\n",
       "      <td>2.87</td>\n",
       "      <td>8.8</td>\n",
       "      <td>134</td>\n",
       "      <td>5500</td>\n",
       "      <td>18</td>\n",
       "      <td>23</td>\n",
       "      <td>21485.0</td>\n",
       "    </tr>\n",
       "    <tr>\n",
       "      <th>203</th>\n",
       "      <td>204</td>\n",
       "      <td>-1</td>\n",
       "      <td>volvo</td>\n",
       "      <td>diesel</td>\n",
       "      <td>turbo</td>\n",
       "      <td>four</td>\n",
       "      <td>sedan</td>\n",
       "      <td>rwd</td>\n",
       "      <td>front</td>\n",
       "      <td>109.1</td>\n",
       "      <td>...</td>\n",
       "      <td>145</td>\n",
       "      <td>idi</td>\n",
       "      <td>3.01</td>\n",
       "      <td>3.40</td>\n",
       "      <td>23.0</td>\n",
       "      <td>106</td>\n",
       "      <td>4800</td>\n",
       "      <td>26</td>\n",
       "      <td>27</td>\n",
       "      <td>22470.0</td>\n",
       "    </tr>\n",
       "    <tr>\n",
       "      <th>204</th>\n",
       "      <td>205</td>\n",
       "      <td>-1</td>\n",
       "      <td>volvo</td>\n",
       "      <td>gas</td>\n",
       "      <td>turbo</td>\n",
       "      <td>four</td>\n",
       "      <td>sedan</td>\n",
       "      <td>rwd</td>\n",
       "      <td>front</td>\n",
       "      <td>109.1</td>\n",
       "      <td>...</td>\n",
       "      <td>141</td>\n",
       "      <td>mpfi</td>\n",
       "      <td>3.78</td>\n",
       "      <td>3.15</td>\n",
       "      <td>9.5</td>\n",
       "      <td>114</td>\n",
       "      <td>5400</td>\n",
       "      <td>19</td>\n",
       "      <td>25</td>\n",
       "      <td>22625.0</td>\n",
       "    </tr>\n",
       "  </tbody>\n",
       "</table>\n",
       "<p>205 rows × 26 columns</p>\n",
       "</div>"
      ],
      "text/plain": [
       "     car_ID  symboling  CompanyName fueltype aspiration doornumber  \\\n",
       "0         1          3  alfa-romero      gas        std        two   \n",
       "1         2          3  alfa-romero      gas        std        two   \n",
       "2         3          1  alfa-romero      gas        std        two   \n",
       "3         4          2         audi      gas        std       four   \n",
       "4         5          2         audi      gas        std       four   \n",
       "..      ...        ...          ...      ...        ...        ...   \n",
       "200     201         -1        volvo      gas        std       four   \n",
       "201     202         -1        volvo      gas      turbo       four   \n",
       "202     203         -1        volvo      gas        std       four   \n",
       "203     204         -1        volvo   diesel      turbo       four   \n",
       "204     205         -1        volvo      gas      turbo       four   \n",
       "\n",
       "         carbody drivewheel enginelocation  wheelbase  ...  enginesize  \\\n",
       "0    convertible        rwd          front       88.6  ...         130   \n",
       "1    convertible        rwd          front       88.6  ...         130   \n",
       "2      hatchback        rwd          front       94.5  ...         152   \n",
       "3          sedan        fwd          front       99.8  ...         109   \n",
       "4          sedan        4wd          front       99.4  ...         136   \n",
       "..           ...        ...            ...        ...  ...         ...   \n",
       "200        sedan        rwd          front      109.1  ...         141   \n",
       "201        sedan        rwd          front      109.1  ...         141   \n",
       "202        sedan        rwd          front      109.1  ...         173   \n",
       "203        sedan        rwd          front      109.1  ...         145   \n",
       "204        sedan        rwd          front      109.1  ...         141   \n",
       "\n",
       "     fuelsystem  boreratio  stroke compressionratio horsepower  peakrpm  \\\n",
       "0          mpfi       3.47    2.68              9.0        111     5000   \n",
       "1          mpfi       3.47    2.68              9.0        111     5000   \n",
       "2          mpfi       2.68    3.47              9.0        154     5000   \n",
       "3          mpfi       3.19    3.40             10.0        102     5500   \n",
       "4          mpfi       3.19    3.40              8.0        115     5500   \n",
       "..          ...        ...     ...              ...        ...      ...   \n",
       "200        mpfi       3.78    3.15              9.5        114     5400   \n",
       "201        mpfi       3.78    3.15              8.7        160     5300   \n",
       "202        mpfi       3.58    2.87              8.8        134     5500   \n",
       "203         idi       3.01    3.40             23.0        106     4800   \n",
       "204        mpfi       3.78    3.15              9.5        114     5400   \n",
       "\n",
       "    citympg  highwaympg    price  \n",
       "0        21          27  13495.0  \n",
       "1        21          27  16500.0  \n",
       "2        19          26  16500.0  \n",
       "3        24          30  13950.0  \n",
       "4        18          22  17450.0  \n",
       "..      ...         ...      ...  \n",
       "200      23          28  16845.0  \n",
       "201      19          25  19045.0  \n",
       "202      18          23  21485.0  \n",
       "203      26          27  22470.0  \n",
       "204      19          25  22625.0  \n",
       "\n",
       "[205 rows x 26 columns]"
      ]
     },
     "execution_count": 25,
     "metadata": {},
     "output_type": "execute_result"
    }
   ],
   "source": [
    "Outliers(cars,cols)"
   ]
  },
  {
   "cell_type": "code",
   "execution_count": 26,
   "id": "1fd59bf5",
   "metadata": {},
   "outputs": [],
   "source": [
    "# checking for duplicate rows\n",
    "duplicate = cars[cars.duplicated()]"
   ]
  },
  {
   "cell_type": "code",
   "execution_count": 27,
   "id": "cb8731a4",
   "metadata": {},
   "outputs": [
    {
     "data": {
      "text/html": [
       "<div>\n",
       "<style scoped>\n",
       "    .dataframe tbody tr th:only-of-type {\n",
       "        vertical-align: middle;\n",
       "    }\n",
       "\n",
       "    .dataframe tbody tr th {\n",
       "        vertical-align: top;\n",
       "    }\n",
       "\n",
       "    .dataframe thead th {\n",
       "        text-align: right;\n",
       "    }\n",
       "</style>\n",
       "<table border=\"1\" class=\"dataframe\">\n",
       "  <thead>\n",
       "    <tr style=\"text-align: right;\">\n",
       "      <th></th>\n",
       "      <th>car_ID</th>\n",
       "      <th>symboling</th>\n",
       "      <th>CompanyName</th>\n",
       "      <th>fueltype</th>\n",
       "      <th>aspiration</th>\n",
       "      <th>doornumber</th>\n",
       "      <th>carbody</th>\n",
       "      <th>drivewheel</th>\n",
       "      <th>enginelocation</th>\n",
       "      <th>wheelbase</th>\n",
       "      <th>...</th>\n",
       "      <th>enginesize</th>\n",
       "      <th>fuelsystem</th>\n",
       "      <th>boreratio</th>\n",
       "      <th>stroke</th>\n",
       "      <th>compressionratio</th>\n",
       "      <th>horsepower</th>\n",
       "      <th>peakrpm</th>\n",
       "      <th>citympg</th>\n",
       "      <th>highwaympg</th>\n",
       "      <th>price</th>\n",
       "    </tr>\n",
       "  </thead>\n",
       "  <tbody>\n",
       "  </tbody>\n",
       "</table>\n",
       "<p>0 rows × 26 columns</p>\n",
       "</div>"
      ],
      "text/plain": [
       "Empty DataFrame\n",
       "Columns: [car_ID, symboling, CompanyName, fueltype, aspiration, doornumber, carbody, drivewheel, enginelocation, wheelbase, carlength, carwidth, carheight, curbweight, enginetype, cylindernumber, enginesize, fuelsystem, boreratio, stroke, compressionratio, horsepower, peakrpm, citympg, highwaympg, price]\n",
       "Index: []\n",
       "\n",
       "[0 rows x 26 columns]"
      ]
     },
     "execution_count": 27,
     "metadata": {},
     "output_type": "execute_result"
    }
   ],
   "source": [
    "duplicate"
   ]
  },
  {
   "cell_type": "markdown",
   "id": "a428a8bc",
   "metadata": {},
   "source": [
    "**Inference:** No duplicate rows detected."
   ]
  },
  {
   "cell_type": "markdown",
   "id": "78b971c7",
   "metadata": {},
   "source": [
    "### Step 3: Data visualization"
   ]
  },
  {
   "cell_type": "markdown",
   "id": "325a73e3",
   "metadata": {},
   "source": [
    "**For categorical variables**"
   ]
  },
  {
   "cell_type": "code",
   "execution_count": 28,
   "id": "304d4cc4",
   "metadata": {},
   "outputs": [
    {
     "data": {
      "text/plain": [
       "<AxesSubplot:title={'center':'Car Price Distribution Plot'}, xlabel='price', ylabel='Density'>"
      ]
     },
     "execution_count": 28,
     "metadata": {},
     "output_type": "execute_result"
    },
    {
     "data": {
      "image/png": "[encoded data removed]",
      "text/plain": [
       "<Figure size 1440x576 with 1 Axes>"
      ]
     },
     "metadata": {},
     "output_type": "display_data"
    }
   ],
   "source": [
    "#Distribution plot for price\n",
    "sns.set_theme(style=\"darkgrid\")\n",
    "plt.figure(figsize=(20,8))\n",
    "\n",
    "plt.subplot(1,2,1)\n",
    "plt.title('Car Price Distribution Plot')\n",
    "sns.distplot(cars.price)"
   ]
  },
  {
   "cell_type": "markdown",
   "id": "9a4c4824",
   "metadata": {},
   "source": [
    "**Inference:** Graph skewed towards right =>most car prices are below 20000."
   ]
  },
  {
   "cell_type": "code",
   "execution_count": 29,
   "id": "a3ff6ae8",
   "metadata": {},
   "outputs": [
    {
     "data": {
      "text/plain": [
       "<AxesSubplot:title={'center':'Car Price Distribution Plot'}, xlabel='price', ylabel='Density'>"
      ]
     },
     "execution_count": 29,
     "metadata": {},
     "output_type": "execute_result"
    },
    {
     "data": {
      "image/png": "[encoded data removed]",
      "text/plain": [
       "<Figure size 1440x576 with 1 Axes>"
      ]
     },
     "metadata": {},
     "output_type": "display_data"
    }
   ],
   "source": [
    "#Log transformation of Distribution plot \n",
    "plt.figure(figsize=(20,8))\n",
    "\n",
    "plt.subplot(1,2,1)\n",
    "plt.title('Car Price Distribution Plot')\n",
    "sns.distplot(np.log(cars.price))"
   ]
  },
  {
   "cell_type": "code",
   "execution_count": 30,
   "id": "bf4ca95e",
   "metadata": {
    "scrolled": true
   },
   "outputs": [
    {
     "data": {
      "image/png": "[encoded data removed]",
      "text/plain": [
       "<Figure size 432x288 with 1 Axes>"
      ]
     },
     "metadata": {},
     "output_type": "display_data"
    }
   ],
   "source": [
    "#countplot for doornumber\n",
    "sns.set_theme(style=\"darkgrid\")\n",
    "sns.countplot(x ='doornumber', data = cars)\n",
    "plt.title('count of cars with two and four doors')\n",
    " \n",
    "# Show the plot\n",
    "plt.show()"
   ]
  },
  {
   "cell_type": "markdown",
   "id": "7e650efc",
   "metadata": {},
   "source": [
    "**Inference:** Cars with 4 doors are more bought."
   ]
  },
  {
   "cell_type": "code",
   "execution_count": 31,
   "id": "99ee8a25",
   "metadata": {},
   "outputs": [
    {
     "data": {
      "text/plain": [
       "<seaborn.axisgrid.FacetGrid at 0x1d6f647f8b0>"
      ]
     },
     "execution_count": 31,
     "metadata": {},
     "output_type": "execute_result"
    },
    {
     "data": {
      "image/png": "[encoded data removed]",
      "text/plain": [
       "<Figure size 360x360 with 1 Axes>"
      ]
     },
     "metadata": {},
     "output_type": "display_data"
    }
   ],
   "source": [
    "#Price v/s No:of doors\n",
    "sns.set_theme(style=\"darkgrid\")\n",
    "sns.catplot(x=\"doornumber\", y=\"price\", kind=\"bar\", data=cars)"
   ]
  },
  {
   "cell_type": "markdown",
   "id": "824176ad",
   "metadata": {},
   "source": [
    "**Inference:**Cars with 4 doors are more preferred but no:of doors does not affect the price much."
   ]
  },
  {
   "cell_type": "code",
   "execution_count": 32,
   "id": "8781f8b1",
   "metadata": {},
   "outputs": [
    {
     "data": {
      "image/png": "[encoded data removed]",
      "text/plain": [
       "<Figure size 1440x1080 with 1 Axes>"
      ]
     },
     "metadata": {},
     "output_type": "display_data"
    }
   ],
   "source": [
    "#countplot to understand which companies cars are brought the maximum.\n",
    "sns.set_theme(style=\"darkgrid\")\n",
    "fig, ax = plt.subplots(figsize=(20, 15))\n",
    "sns.countplot(x ='CompanyName',data = cars,ax=ax )\n",
    "plt.title('count of cars based on company')\n",
    "\n",
    "# Show the plot\n",
    "plt.show()"
   ]
  },
  {
   "cell_type": "markdown",
   "id": "b0b2ae1e",
   "metadata": {},
   "source": [
    "**Inference:** More cars of company toyota are sold."
   ]
  },
  {
   "cell_type": "code",
   "execution_count": 33,
   "id": "05dafe77",
   "metadata": {},
   "outputs": [
    {
     "data": {
      "image/png": "[encoded data removed]",
      "text/plain": [
       "<Figure size 432x288 with 1 Axes>"
      ]
     },
     "metadata": {},
     "output_type": "display_data"
    }
   ],
   "source": [
    "#Countplot for fuel types\n",
    "sns.set_theme(style=\"darkgrid\")\n",
    "sns.countplot(x ='fueltype', data = cars)\n",
    "plt.title('Fuel Type')\n",
    "plt.show()"
   ]
  },
  {
   "cell_type": "markdown",
   "id": "e0b56fd6",
   "metadata": {},
   "source": [
    "**Inference:**More people prefer vehicles run on gas than on diesel."
   ]
  },
  {
   "cell_type": "code",
   "execution_count": 34,
   "id": "58ee384a",
   "metadata": {},
   "outputs": [
    {
     "data": {
      "text/plain": [
       "<seaborn.axisgrid.FacetGrid at 0x1d6f85f3370>"
      ]
     },
     "execution_count": 34,
     "metadata": {},
     "output_type": "execute_result"
    },
    {
     "data": {
      "image/png": "[encoded data removed]",
      "text/plain": [
       "<Figure size 360x360 with 1 Axes>"
      ]
     },
     "metadata": {},
     "output_type": "display_data"
    }
   ],
   "source": [
    "#Fuel price v/s price\n",
    "sns.set_theme(style=\"darkgrid\")\n",
    "sns.catplot(x=\"fueltype\", y=\"price\", kind=\"bar\", data=cars)"
   ]
  },
  {
   "cell_type": "markdown",
   "id": "96140033",
   "metadata": {},
   "source": [
    "**Inference:** Diesel cars are more expensive."
   ]
  },
  {
   "cell_type": "code",
   "execution_count": 35,
   "id": "283e6bd7",
   "metadata": {},
   "outputs": [
    {
     "data": {
      "text/plain": [
       "<AxesSubplot:title={'center':'Engine Type vs Price'}, xlabel='enginetype', ylabel='price'>"
      ]
     },
     "execution_count": 35,
     "metadata": {},
     "output_type": "execute_result"
    },
    {
     "data": {
      "image/png": "[encoded data removed]",
      "text/plain": [
       "<Figure size 432x288 with 1 Axes>"
      ]
     },
     "metadata": {},
     "output_type": "display_data"
    }
   ],
   "source": [
    "plt.title('Engine Type vs Price')\n",
    "sns.boxplot(x=cars.enginetype, y=cars.price)"
   ]
  },
  {
   "cell_type": "markdown",
   "id": "787e0bd4",
   "metadata": {},
   "source": [
    "**Inference:** `ohcv`has higest price range.While `ohc` and `ohcf` are cheapest."
   ]
  },
  {
   "cell_type": "code",
   "execution_count": 36,
   "id": "2d5bd554",
   "metadata": {},
   "outputs": [
    {
     "data": {
      "text/plain": [
       "<seaborn.axisgrid.FacetGrid at 0x1d6f8603160>"
      ]
     },
     "execution_count": 36,
     "metadata": {},
     "output_type": "execute_result"
    },
    {
     "data": {
      "image/png": "[encoded data removed]",
      "text/plain": [
       "<Figure size 360x360 with 1 Axes>"
      ]
     },
     "metadata": {},
     "output_type": "display_data"
    }
   ],
   "source": [
    "#carbody v/s price\n",
    "sns.set_theme(style=\"darkgrid\")\n",
    "sns.catplot(x=\"carbody\", y=\"price\", kind=\"bar\", data=cars)"
   ]
  },
  {
   "cell_type": "markdown",
   "id": "1abb18bc",
   "metadata": {},
   "source": [
    "**Inference:** hardtop and convertible are more costly carbodies."
   ]
  },
  {
   "cell_type": "code",
   "execution_count": 37,
   "id": "18c60b2e",
   "metadata": {},
   "outputs": [
    {
     "data": {
      "text/plain": [
       "<seaborn.axisgrid.FacetGrid at 0x1d6f880d790>"
      ]
     },
     "execution_count": 37,
     "metadata": {},
     "output_type": "execute_result"
    },
    {
     "data": {
      "image/png": "[encoded data removed]",
      "text/plain": [
       "<Figure size 360x360 with 1 Axes>"
      ]
     },
     "metadata": {},
     "output_type": "display_data"
    }
   ],
   "source": [
    "#cylinder v/s price\n",
    "sns.set_theme(style=\"darkgrid\")\n",
    "sns.catplot(x=\"cylindernumber\", y=\"price\", kind=\"bar\", data=cars)"
   ]
  },
  {
   "cell_type": "markdown",
   "id": "cf183450",
   "metadata": {},
   "source": [
    "**Inference:** Cylinder number affects price of car."
   ]
  },
  {
   "cell_type": "code",
   "execution_count": 38,
   "id": "db6b75f4",
   "metadata": {},
   "outputs": [
    {
     "data": {
      "text/plain": [
       "<seaborn.axisgrid.FacetGrid at 0x1d6f634d8e0>"
      ]
     },
     "execution_count": 38,
     "metadata": {},
     "output_type": "execute_result"
    },
    {
     "data": {
      "image/png": "[encoded data removed]",
      "text/plain": [
       "<Figure size 360x360 with 1 Axes>"
      ]
     },
     "metadata": {},
     "output_type": "display_data"
    }
   ],
   "source": [
    "#enginelocation v/s price\n",
    "sns.set_theme(style=\"darkgrid\")\n",
    "sns.catplot(x=\"enginelocation\", y=\"price\", kind=\"bar\", data=cars)"
   ]
  },
  {
   "cell_type": "markdown",
   "id": "ac69d370",
   "metadata": {},
   "source": [
    "**Inference:** Enginelocaton affects price of cars."
   ]
  },
  {
   "cell_type": "code",
   "execution_count": 39,
   "id": "f106d6d2",
   "metadata": {},
   "outputs": [
    {
     "data": {
      "text/plain": [
       "<seaborn.axisgrid.FacetGrid at 0x1d6f85f5640>"
      ]
     },
     "execution_count": 39,
     "metadata": {},
     "output_type": "execute_result"
    },
    {
     "data": {
      "image/png": "[encoded data removed]",
      "text/plain": [
       "<Figure size 360x360 with 1 Axes>"
      ]
     },
     "metadata": {},
     "output_type": "display_data"
    }
   ],
   "source": [
    "#aspiration v/s price\n",
    "sns.set_theme(style=\"darkgrid\")\n",
    "sns.catplot(x=\"aspiration\", y=\"price\", kind=\"bar\", data=cars)"
   ]
  },
  {
   "cell_type": "markdown",
   "id": "d98c8ef5",
   "metadata": {},
   "source": [
    "**Inference:** aspiration affects price."
   ]
  },
  {
   "cell_type": "code",
   "execution_count": 40,
   "id": "039d6fbf",
   "metadata": {},
   "outputs": [
    {
     "data": {
      "text/plain": [
       "<seaborn.axisgrid.FacetGrid at 0x1d6f8aa0940>"
      ]
     },
     "execution_count": 40,
     "metadata": {},
     "output_type": "execute_result"
    },
    {
     "data": {
      "image/png": "[encoded data removed]",
      "text/plain": [
       "<Figure size 360x360 with 1 Axes>"
      ]
     },
     "metadata": {},
     "output_type": "display_data"
    }
   ],
   "source": [
    "#drivewheel v/s price\n",
    "sns.set_theme(style=\"darkgrid\")\n",
    "sns.catplot(x=\"drivewheel\", y=\"price\", kind=\"bar\", data=cars)"
   ]
  },
  {
   "cell_type": "markdown",
   "id": "2c5ce354",
   "metadata": {},
   "source": [
    "**Inference:** drivewheel affects price."
   ]
  },
  {
   "cell_type": "code",
   "execution_count": 41,
   "id": "b293844e",
   "metadata": {},
   "outputs": [
    {
     "data": {
      "text/plain": [
       "<AxesSubplot:title={'center':'Symboling vs Price'}, xlabel='symboling', ylabel='price'>"
      ]
     },
     "execution_count": 41,
     "metadata": {},
     "output_type": "execute_result"
    },
    {
     "data": {
      "image/png": "[encoded data removed]",
      "text/plain": [
       "<Figure size 432x288 with 1 Axes>"
      ]
     },
     "metadata": {},
     "output_type": "display_data"
    }
   ],
   "source": [
    "plt.title('Symboling vs Price')\n",
    "sns.boxplot(x=cars.symboling, y=cars.price)"
   ]
  },
  {
   "cell_type": "markdown",
   "id": "02e4110b",
   "metadata": {},
   "source": [
    "**Inference:** Cars with symboling `-1` seems to be higher priced and there is a dipin prce for cars with symboling `1`."
   ]
  },
  {
   "cell_type": "markdown",
   "id": "82948078",
   "metadata": {},
   "source": [
    "**For numerical variables**"
   ]
  },
  {
   "cell_type": "code",
   "execution_count": 42,
   "id": "1a13096c",
   "metadata": {},
   "outputs": [
    {
     "data": {
      "image/png": "[encoded data removed]",
      "text/plain": [
       "<Figure size 720x1440 with 4 Axes>"
      ]
     },
     "metadata": {},
     "output_type": "display_data"
    }
   ],
   "source": [
    "def scatter(x,fig):\n",
    "    plt.subplot(5,2,fig)\n",
    "    plt.scatter(cars[x],cars['price'])\n",
    "    plt.title(x+' vs Price')\n",
    "    plt.ylabel('Price')\n",
    "    plt.xlabel(x)\n",
    "\n",
    "plt.figure(figsize=(10,20))\n",
    "\n",
    "scatter('carlength', 1)\n",
    "scatter('carwidth', 2)\n",
    "scatter('carheight', 3)\n",
    "scatter('curbweight', 4)\n",
    "\n",
    "plt.tight_layout()\n"
   ]
  },
  {
   "cell_type": "markdown",
   "id": "ced31363",
   "metadata": {},
   "source": [
    "**Inference:** `carlength`,`carwdth`,`curbweight` have a positive correlation with price and `carheight` has a small positive relation with price."
   ]
  },
  {
   "cell_type": "code",
   "execution_count": 43,
   "id": "4ff9f464",
   "metadata": {},
   "outputs": [
    {
     "data": {
      "image/png": "[encoded data removed]",
      "text/plain": [
       "<Figure size 720x1440 with 9 Axes>"
      ]
     },
     "metadata": {},
     "output_type": "display_data"
    }
   ],
   "source": [
    "plt.figure(figsize=(10,20))\n",
    "scatter('enginesize', 1)\n",
    "scatter('boreratio', 2)\n",
    "scatter('stroke', 3)\n",
    "scatter('compressionratio', 4)\n",
    "scatter('horsepower', 5)\n",
    "scatter('peakrpm', 6)\n",
    "scatter('wheelbase', 7)\n",
    "scatter('citympg', 8)\n",
    "scatter('highwaympg', 9)\n",
    "plt.tight_layout()"
   ]
  },
  {
   "cell_type": "markdown",
   "id": "1eac60dd",
   "metadata": {},
   "source": [
    "**Inference:**`compressionratio`,`stroke`,`peakrpm` has no relation with `price`."
   ]
  },
  {
   "cell_type": "markdown",
   "id": "f4550a0e",
   "metadata": {},
   "source": [
    "**Some features are found to be not important after visual analysis. Those are `carID`,`compressionratio`,`stroke`,`peakrpm`and `doornumber`.**"
   ]
  },
  {
   "cell_type": "code",
   "execution_count": 44,
   "id": "2d337733",
   "metadata": {},
   "outputs": [],
   "source": [
    "#Dropping all those columns\n",
    "cars=cars.drop(['car_ID','compressionratio','stroke','peakrpm','doornumber'],axis=1)"
   ]
  },
  {
   "cell_type": "code",
   "execution_count": 45,
   "id": "3273bfc8",
   "metadata": {},
   "outputs": [
    {
     "data": {
      "text/plain": [
       "(205, 21)"
      ]
     },
     "execution_count": 45,
     "metadata": {},
     "output_type": "execute_result"
    }
   ],
   "source": [
    "cars.shape"
   ]
  },
  {
   "cell_type": "markdown",
   "id": "17ba511e",
   "metadata": {},
   "source": [
    "**Categorical to numerical conversion**"
   ]
  },
  {
   "cell_type": "code",
   "execution_count": 46,
   "id": "bb707153",
   "metadata": {
    "scrolled": true
   },
   "outputs": [],
   "source": [
    "# Defining the map function\n",
    "def dummies(x,df):\n",
    "    temp = pd.get_dummies(df[x], drop_first = True)\n",
    "    df = pd.concat([df, temp], axis = 1)\n",
    "    df.drop([x], axis = 1, inplace = True)\n",
    "    return df\n",
    "# Applying the function to the cars\n",
    "\n",
    "cars = dummies('fueltype',cars)\n",
    "cars = dummies('aspiration',cars)\n",
    "cars = dummies('carbody',cars)\n",
    "cars = dummies('drivewheel',cars)\n",
    "cars = dummies('enginetype',cars)\n",
    "cars = dummies('cylindernumber',cars)"
   ]
  },
  {
   "cell_type": "code",
   "execution_count": 47,
   "id": "f45ec937",
   "metadata": {},
   "outputs": [],
   "source": [
    "cars = dummies('CompanyName',cars)\n",
    "cars = dummies('enginelocation',cars)"
   ]
  },
  {
   "cell_type": "code",
   "execution_count": 48,
   "id": "91194ea4",
   "metadata": {},
   "outputs": [],
   "source": [
    "cars = dummies('fuelsystem',cars)"
   ]
  },
  {
   "cell_type": "code",
   "execution_count": 49,
   "id": "156868a3",
   "metadata": {},
   "outputs": [
    {
     "data": {
      "text/html": [
       "<div>\n",
       "<style scoped>\n",
       "    .dataframe tbody tr th:only-of-type {\n",
       "        vertical-align: middle;\n",
       "    }\n",
       "\n",
       "    .dataframe tbody tr th {\n",
       "        vertical-align: top;\n",
       "    }\n",
       "\n",
       "    .dataframe thead th {\n",
       "        text-align: right;\n",
       "    }\n",
       "</style>\n",
       "<table border=\"1\" class=\"dataframe\">\n",
       "  <thead>\n",
       "    <tr style=\"text-align: right;\">\n",
       "      <th></th>\n",
       "      <th>symboling</th>\n",
       "      <th>wheelbase</th>\n",
       "      <th>carlength</th>\n",
       "      <th>carwidth</th>\n",
       "      <th>carheight</th>\n",
       "      <th>curbweight</th>\n",
       "      <th>enginesize</th>\n",
       "      <th>boreratio</th>\n",
       "      <th>horsepower</th>\n",
       "      <th>citympg</th>\n",
       "      <th>...</th>\n",
       "      <th>volkswagen</th>\n",
       "      <th>volvo</th>\n",
       "      <th>rear</th>\n",
       "      <th>2bbl</th>\n",
       "      <th>4bbl</th>\n",
       "      <th>idi</th>\n",
       "      <th>mfi</th>\n",
       "      <th>mpfi</th>\n",
       "      <th>spdi</th>\n",
       "      <th>spfi</th>\n",
       "    </tr>\n",
       "  </thead>\n",
       "  <tbody>\n",
       "    <tr>\n",
       "      <th>0</th>\n",
       "      <td>3</td>\n",
       "      <td>88.6</td>\n",
       "      <td>168.8</td>\n",
       "      <td>64.1</td>\n",
       "      <td>48.8</td>\n",
       "      <td>2548</td>\n",
       "      <td>130</td>\n",
       "      <td>3.47</td>\n",
       "      <td>111</td>\n",
       "      <td>21</td>\n",
       "      <td>...</td>\n",
       "      <td>0</td>\n",
       "      <td>0</td>\n",
       "      <td>0</td>\n",
       "      <td>0</td>\n",
       "      <td>0</td>\n",
       "      <td>0</td>\n",
       "      <td>0</td>\n",
       "      <td>1</td>\n",
       "      <td>0</td>\n",
       "      <td>0</td>\n",
       "    </tr>\n",
       "    <tr>\n",
       "      <th>1</th>\n",
       "      <td>3</td>\n",
       "      <td>88.6</td>\n",
       "      <td>168.8</td>\n",
       "      <td>64.1</td>\n",
       "      <td>48.8</td>\n",
       "      <td>2548</td>\n",
       "      <td>130</td>\n",
       "      <td>3.47</td>\n",
       "      <td>111</td>\n",
       "      <td>21</td>\n",
       "      <td>...</td>\n",
       "      <td>0</td>\n",
       "      <td>0</td>\n",
       "      <td>0</td>\n",
       "      <td>0</td>\n",
       "      <td>0</td>\n",
       "      <td>0</td>\n",
       "      <td>0</td>\n",
       "      <td>1</td>\n",
       "      <td>0</td>\n",
       "      <td>0</td>\n",
       "    </tr>\n",
       "    <tr>\n",
       "      <th>2</th>\n",
       "      <td>1</td>\n",
       "      <td>94.5</td>\n",
       "      <td>171.2</td>\n",
       "      <td>65.5</td>\n",
       "      <td>52.4</td>\n",
       "      <td>2823</td>\n",
       "      <td>152</td>\n",
       "      <td>2.68</td>\n",
       "      <td>154</td>\n",
       "      <td>19</td>\n",
       "      <td>...</td>\n",
       "      <td>0</td>\n",
       "      <td>0</td>\n",
       "      <td>0</td>\n",
       "      <td>0</td>\n",
       "      <td>0</td>\n",
       "      <td>0</td>\n",
       "      <td>0</td>\n",
       "      <td>1</td>\n",
       "      <td>0</td>\n",
       "      <td>0</td>\n",
       "    </tr>\n",
       "    <tr>\n",
       "      <th>3</th>\n",
       "      <td>2</td>\n",
       "      <td>99.8</td>\n",
       "      <td>176.6</td>\n",
       "      <td>66.2</td>\n",
       "      <td>54.3</td>\n",
       "      <td>2337</td>\n",
       "      <td>109</td>\n",
       "      <td>3.19</td>\n",
       "      <td>102</td>\n",
       "      <td>24</td>\n",
       "      <td>...</td>\n",
       "      <td>0</td>\n",
       "      <td>0</td>\n",
       "      <td>0</td>\n",
       "      <td>0</td>\n",
       "      <td>0</td>\n",
       "      <td>0</td>\n",
       "      <td>0</td>\n",
       "      <td>1</td>\n",
       "      <td>0</td>\n",
       "      <td>0</td>\n",
       "    </tr>\n",
       "    <tr>\n",
       "      <th>4</th>\n",
       "      <td>2</td>\n",
       "      <td>99.4</td>\n",
       "      <td>176.6</td>\n",
       "      <td>66.4</td>\n",
       "      <td>54.3</td>\n",
       "      <td>2824</td>\n",
       "      <td>136</td>\n",
       "      <td>3.19</td>\n",
       "      <td>115</td>\n",
       "      <td>18</td>\n",
       "      <td>...</td>\n",
       "      <td>0</td>\n",
       "      <td>0</td>\n",
       "      <td>0</td>\n",
       "      <td>0</td>\n",
       "      <td>0</td>\n",
       "      <td>0</td>\n",
       "      <td>0</td>\n",
       "      <td>1</td>\n",
       "      <td>0</td>\n",
       "      <td>0</td>\n",
       "    </tr>\n",
       "  </tbody>\n",
       "</table>\n",
       "<p>5 rows × 62 columns</p>\n",
       "</div>"
      ],
      "text/plain": [
       "   symboling  wheelbase  carlength  carwidth  carheight  curbweight  \\\n",
       "0          3       88.6      168.8      64.1       48.8        2548   \n",
       "1          3       88.6      168.8      64.1       48.8        2548   \n",
       "2          1       94.5      171.2      65.5       52.4        2823   \n",
       "3          2       99.8      176.6      66.2       54.3        2337   \n",
       "4          2       99.4      176.6      66.4       54.3        2824   \n",
       "\n",
       "   enginesize  boreratio  horsepower  citympg  ...  volkswagen  volvo  rear  \\\n",
       "0         130       3.47         111       21  ...           0      0     0   \n",
       "1         130       3.47         111       21  ...           0      0     0   \n",
       "2         152       2.68         154       19  ...           0      0     0   \n",
       "3         109       3.19         102       24  ...           0      0     0   \n",
       "4         136       3.19         115       18  ...           0      0     0   \n",
       "\n",
       "   2bbl  4bbl  idi  mfi  mpfi  spdi  spfi  \n",
       "0     0     0    0    0     1     0     0  \n",
       "1     0     0    0    0     1     0     0  \n",
       "2     0     0    0    0     1     0     0  \n",
       "3     0     0    0    0     1     0     0  \n",
       "4     0     0    0    0     1     0     0  \n",
       "\n",
       "[5 rows x 62 columns]"
      ]
     },
     "execution_count": 49,
     "metadata": {},
     "output_type": "execute_result"
    }
   ],
   "source": [
    "cars.head()"
   ]
  },
  {
   "cell_type": "raw",
   "id": "1cb7cd3c",
   "metadata": {},
   "source": [
    "Therefore, categorical variables converted using one-hot encoding."
   ]
  },
  {
   "cell_type": "markdown",
   "id": "c55e652a",
   "metadata": {},
   "source": [
    "### Step 3: Input-output split"
   ]
  },
  {
   "cell_type": "code",
   "execution_count": 50,
   "id": "1b15265d",
   "metadata": {},
   "outputs": [
    {
     "data": {
      "text/plain": [
       "Index(['symboling', 'wheelbase', 'carlength', 'carwidth', 'carheight',\n",
       "       'curbweight', 'enginesize', 'boreratio', 'horsepower', 'citympg',\n",
       "       'highwaympg', 'price', 'gas', 'turbo', 'hardtop', 'hatchback', 'sedan',\n",
       "       'wagon', 'fwd', 'rwd', 'dohcv', 'l', 'ohc', 'ohcf', 'ohcv', 'rotor',\n",
       "       'five', 'four', 'six', 'three', 'twelve', 'two', 'alfa-romero', 'audi',\n",
       "       'bmw', 'buick', 'chevrolet', 'dodge', 'honda', 'isuzu', 'jaguar',\n",
       "       'mazda', 'mercury', 'mitsubishi', 'nissan', 'peugeot', 'plymouth',\n",
       "       'porsche', 'renault', 'saab', 'subaru', 'toyota', 'volkswagen', 'volvo',\n",
       "       'rear', '2bbl', '4bbl', 'idi', 'mfi', 'mpfi', 'spdi', 'spfi'],\n",
       "      dtype='object')"
      ]
     },
     "execution_count": 50,
     "metadata": {},
     "output_type": "execute_result"
    }
   ],
   "source": [
    "cars.columns"
   ]
  },
  {
   "cell_type": "code",
   "execution_count": 51,
   "id": "dad90e2f",
   "metadata": {},
   "outputs": [],
   "source": [
    "X = cars[['symboling', 'wheelbase', 'carlength', 'carwidth', 'curbweight','carheight',\n",
    "       'enginesize', 'boreratio', 'horsepower', 'citympg', 'highwaympg',\n",
    "       'gas', 'turbo', 'hardtop', 'hatchback', 'sedan', 'wagon',\n",
    "       'fwd', 'rwd', 'dohcv', 'l', 'ohc', 'ohcf', 'ohcv', 'rotor', 'five',\n",
    "       'four', 'six', 'three', 'twelve', 'two', 'alfa-romero', 'audi', 'bmw',\n",
    "       'buick', 'chevrolet', 'dodge', 'honda', 'isuzu', 'jaguar', 'mazda',\n",
    "       'mercury', 'mitsubishi', 'nissan', 'peugeot', 'plymouth', 'porsche',\n",
    "       'renault', 'saab', 'subaru', 'toyota', 'volkswagen', 'volvo', 'rear',\n",
    "       '2bbl', '4bbl', 'idi', 'mfi', 'mpfi', 'spdi', 'spfi']]\n",
    "Y = cars['price']"
   ]
  },
  {
   "cell_type": "markdown",
   "id": "13f904d1",
   "metadata": {},
   "source": [
    "### Step 4: Test-train split"
   ]
  },
  {
   "cell_type": "code",
   "execution_count": 52,
   "id": "61b67428",
   "metadata": {},
   "outputs": [],
   "source": [
    "from sklearn.model_selection import train_test_split\n",
    "X_train, X_test, y_train, y_test = train_test_split(X,Y,test_size = 0.33, random_state=1)"
   ]
  },
  {
   "cell_type": "markdown",
   "id": "ba6f0852",
   "metadata": {},
   "source": [
    "### Step 5: Model building"
   ]
  },
  {
   "cell_type": "code",
   "execution_count": 53,
   "id": "140cc93f",
   "metadata": {},
   "outputs": [],
   "source": [
    "from sklearn.tree import DecisionTreeRegressor\n",
    "from sklearn.metrics import r2_score\n",
    "from sklearn.metrics import mean_squared_error"
   ]
  },
  {
   "cell_type": "code",
   "execution_count": 54,
   "id": "34e49802",
   "metadata": {},
   "outputs": [
    {
     "name": "stdout",
     "output_type": "stream",
     "text": [
      "For max depth =  1  :  0.5796540239987988\n",
      "For max depth =  2  :  0.8052587878940363\n",
      "For max depth =  3  :  0.8373806396633171\n",
      "For max depth =  4  :  0.8374011606045431\n",
      "For max depth =  5  :  0.858990328135733\n",
      "For max depth =  6  :  0.8629184437700052\n",
      "For max depth =  7  :  0.8856772791222793\n"
     ]
    }
   ],
   "source": [
    "#Understanding the best max depth\n",
    "depth = [];\n",
    "\n",
    "for i in range(1,8):\n",
    "    reg_tree = DecisionTreeRegressor(criterion=\"friedman_mse\", random_state = 1, max_depth = i)\n",
    "    reg_tree.fit(X_train,np.log(y_train))\n",
    "    yhat = reg_tree.predict(X_test)\n",
    "    depth.append(r2_score(np.log(y_test),yhat))\n",
    "    print(\"For max depth = \",i, \" : \",r2_score(np.log(y_test),yhat))"
   ]
  },
  {
   "cell_type": "code",
   "execution_count": 55,
   "id": "cdbdc111",
   "metadata": {},
   "outputs": [
    {
     "data": {
      "image/png": "[encoded data removed]",
      "text/plain": [
       "<Figure size 576x432 with 1 Axes>"
      ]
     },
     "metadata": {},
     "output_type": "display_data"
    }
   ],
   "source": [
    "# finding best max depth\n",
    "plt.figure(figsize=(8,6))\n",
    "plt.plot(range(1,8),depth,color=\"red\", marker = \"o\")\n",
    "plt.xlabel(\"Depth of Tree\")\n",
    "plt.ylabel(\"R2 Score\")\n",
    "plt.title(\"Finding the right depth with highest r2\")\n",
    "plt.xticks(range(1,8))\n",
    "plt.show()"
   ]
  },
  {
   "cell_type": "markdown",
   "id": "502b0352",
   "metadata": {},
   "source": [
    "**Inference:** r2 maximum when max_depth=7."
   ]
  },
  {
   "cell_type": "code",
   "execution_count": 56,
   "id": "fd01f134",
   "metadata": {},
   "outputs": [
    {
     "name": "stdout",
     "output_type": "stream",
     "text": [
      "r2 score: 0.8856772791222793\n",
      "MSE: 0.026124559528481278\n"
     ]
    }
   ],
   "source": [
    "# max_depth = 7\n",
    "reg_tree = DecisionTreeRegressor(criterion=\"friedman_mse\", random_state = 1, max_depth = 7)\n",
    "reg_tree.fit(X_train,np.log(y_train))\n",
    "yhat = reg_tree.predict(X_test)\n",
    "print('r2 score:',r2_score(np.log(y_test),yhat))\n",
    "print('MSE:',mean_squared_error(np.log(y_test),yhat))"
   ]
  },
  {
   "cell_type": "code",
   "execution_count": 57,
   "id": "53bfe43e",
   "metadata": {
    "scrolled": false
   },
   "outputs": [
    {
     "name": "stdout",
     "output_type": "stream",
     "text": [
      "r2 score: 0.990253583123987\n",
      "MSE: 0.0025517106279639035\n"
     ]
    }
   ],
   "source": [
    "#trainng score\n",
    "y_hat = reg_tree.predict(X_train)\n",
    "r2_train = r2_score(np.log(y_train),y_hat)\n",
    "print('r2 score:',r2_train)\n",
    "print('MSE:',mean_squared_error(np.log(y_train),y_hat))"
   ]
  },
  {
   "cell_type": "markdown",
   "id": "4e9a69bc",
   "metadata": {},
   "source": [
    "**Feature Selection**"
   ]
  },
  {
   "cell_type": "code",
   "execution_count": 58,
   "id": "c8863d42",
   "metadata": {},
   "outputs": [],
   "source": [
    "#Feature selection using RFE\n",
    "from sklearn.feature_selection import RFE\n",
    "# create the RFE object and specify the number of features to select\n",
    "rfe = RFE(reg_tree, n_features_to_select=10)\n",
    "\n",
    "# fit the RFE object to the data\n",
    "rfe.fit(X_train, np.log(y_train))\n",
    "\n",
    "# get the selected features\n",
    "selected_features = X.columns[rfe.support_].tolist()"
   ]
  },
  {
   "cell_type": "code",
   "execution_count": 59,
   "id": "7fcc7838",
   "metadata": {
    "scrolled": true
   },
   "outputs": [
    {
     "data": {
      "text/plain": [
       "['wheelbase',\n",
       " 'carwidth',\n",
       " 'curbweight',\n",
       " 'carheight',\n",
       " 'enginesize',\n",
       " 'horsepower',\n",
       " 'citympg',\n",
       " 'highwaympg',\n",
       " 'hatchback',\n",
       " 'fwd']"
      ]
     },
     "execution_count": 59,
     "metadata": {},
     "output_type": "execute_result"
    }
   ],
   "source": [
    "selected_features"
   ]
  },
  {
   "cell_type": "code",
   "execution_count": 60,
   "id": "6fef7866",
   "metadata": {},
   "outputs": [],
   "source": [
    "selected_featuress = cars[['wheelbase',\n",
    " 'carwidth',\n",
    " 'curbweight',\n",
    " 'carheight',\n",
    " 'enginesize',\n",
    " 'horsepower',\n",
    " 'citympg',\n",
    " 'highwaympg',\n",
    " 'hatchback',\n",
    " 'fwd']]"
   ]
  },
  {
   "cell_type": "code",
   "execution_count": 61,
   "id": "b2c5bff7",
   "metadata": {},
   "outputs": [],
   "source": [
    "selected_features_train, selected_features_test, y_selected_features_train, y_selected_features_test = train_test_split(selected_featuress,Y,test_size = 0.33, random_state=1)"
   ]
  },
  {
   "cell_type": "markdown",
   "id": "adc48a94",
   "metadata": {},
   "source": [
    "**Model with new set of features**"
   ]
  },
  {
   "cell_type": "code",
   "execution_count": 62,
   "id": "1b5e0a38",
   "metadata": {},
   "outputs": [
    {
     "name": "stdout",
     "output_type": "stream",
     "text": [
      "For max depth =  1  :  0.5796540239987988\n",
      "For max depth =  2  :  0.8052587878940358\n",
      "For max depth =  3  :  0.8373806396633163\n",
      "For max depth =  4  :  0.8400722071490133\n",
      "For max depth =  5  :  0.8807856920591967\n",
      "For max depth =  6  :  0.8638235287607342\n",
      "For max depth =  7  :  0.8659496562793579\n"
     ]
    }
   ],
   "source": [
    "#Understanding the best max depth\n",
    "depth = [];\n",
    "\n",
    "for i in range(1,8):\n",
    "    reg_tree = DecisionTreeRegressor(criterion=\"friedman_mse\", random_state = 1, max_depth = i)\n",
    "    reg_tree.fit(selected_features_train,np.log(y_selected_features_train))\n",
    "    yhat_NEW = reg_tree.predict(selected_features_test)\n",
    "    depth.append(r2_score(np.log(y_selected_features_test),yhat_NEW))\n",
    "    print(\"For max depth = \",i, \" : \",r2_score(np.log(y_selected_features_test),yhat_NEW))"
   ]
  },
  {
   "cell_type": "code",
   "execution_count": 63,
   "id": "5fbab872",
   "metadata": {},
   "outputs": [
    {
     "name": "stdout",
     "output_type": "stream",
     "text": [
      "r2 score: 0.8659496562793579\n",
      "MSE: 0.030632635030520553\n"
     ]
    }
   ],
   "source": [
    "# max_depth = 7\n",
    "reg_tree = DecisionTreeRegressor(criterion=\"friedman_mse\", random_state = 1, max_depth = 7)\n",
    "reg_tree.fit(selected_features_train,np.log(y_selected_features_train))\n",
    "yhat_new = reg_tree.predict(selected_features_test)\n",
    "print('r2 score:',r2_score(np.log(y_selected_features_test),yhat_new))\n",
    "print('MSE:',mean_squared_error(np.log(y_selected_features_test),yhat_new))"
   ]
  },
  {
   "cell_type": "code",
   "execution_count": 64,
   "id": "d2683d18",
   "metadata": {
    "scrolled": true
   },
   "outputs": [
    {
     "name": "stdout",
     "output_type": "stream",
     "text": [
      "r2 score: 0.989036906471576\n",
      "MSE: 0.002870248895334078\n"
     ]
    }
   ],
   "source": [
    "#training score\n",
    "y_hat_train_new = reg_tree.predict(selected_features_train)\n",
    "r2_train_best = r2_score(np.log(y_selected_features_train),y_hat_train_new)\n",
    "print('r2 score:',r2_train_best)\n",
    "print('MSE:',mean_squared_error(np.log(y_selected_features_train),y_hat_train_new))"
   ]
  },
  {
   "cell_type": "markdown",
   "id": "5679ed06",
   "metadata": {},
   "source": [
    "### Conclusion"
   ]
  },
  {
   "cell_type": "code",
   "execution_count": 65,
   "id": "47f32d72",
   "metadata": {},
   "outputs": [
    {
     "data": {
      "text/plain": [
       "array([0.01512443, 0.01002785, 0.71808459, 0.00248743, 0.1947334 ,\n",
       "       0.0325195 , 0.00085034, 0.0131887 , 0.00820533, 0.00477842])"
      ]
     },
     "execution_count": 65,
     "metadata": {},
     "output_type": "execute_result"
    }
   ],
   "source": [
    "# Checking feature importance in the model\n",
    "reg_tree.feature_importances_"
   ]
  },
  {
   "cell_type": "code",
   "execution_count": 66,
   "id": "751649f9",
   "metadata": {},
   "outputs": [
    {
     "data": {
      "text/plain": [
       "<AxesSubplot:>"
      ]
     },
     "execution_count": 66,
     "metadata": {},
     "output_type": "execute_result"
    },
    {
     "data": {
      "image/png": "[encoded data removed]",
      "text/plain": [
       "<Figure size 432x288 with 1 Axes>"
      ]
     },
     "metadata": {},
     "output_type": "display_data"
    }
   ],
   "source": [
    "# Visualizing feature importance\n",
    "(pd.Series(reg_tree.feature_importances_, index=selected_featuress.columns).plot(kind='barh'))"
   ]
  },
  {
   "cell_type": "markdown",
   "id": "5797f7a3",
   "metadata": {},
   "source": [
    "**Conclusion:** Most mportant feature according to the model is `curbweight`."
   ]
  },
  {
   "cell_type": "code",
   "execution_count": 67,
   "id": "b94008bc",
   "metadata": {},
   "outputs": [],
   "source": [
    "# Decision Tree Regression:"
   ]
  },
  {
   "cell_type": "code",
   "execution_count": 68,
   "id": "a83202ed",
   "metadata": {},
   "outputs": [],
   "source": [
    "import numpy as np\n",
    "\n",
    "class DecisionTree():\n",
    "    def __init__(self, max_depth=3, min_samples_split=2):\n",
    "        self.max_depth = max_depth\n",
    "        self.min_samples_split = min_samples_split\n",
    "        self.tree = {}\n",
    "\n",
    "    # A function to split the dataset to create a decision tree    \n",
    "    def split(self, X, y, depth):\n",
    "        n_samples, n_features = X.shape\n",
    "        # To get the number of samples and features present in the dataset.\n",
    "        '''We initialize some variables to store the best split information.'''\n",
    "        best_sdr = -1\n",
    "        # best standard deviation reduction is set to -1.\n",
    "        best_feature = None\n",
    "        # Storing the best feature index and the threshold value.\n",
    "        best_value = None\n",
    "\n",
    "        # Stop condition: max depth reached or not enough samples to split\n",
    "        if depth == self.max_depth or n_samples < self.min_samples_split:\n",
    "            return {'leaf': True, 'value': y.mean()}\n",
    "\n",
    "        # We start to iterate through the features present in n_features variable.\n",
    "        for feature in range(n_features):\n",
    "            values = np.unique(X[:, feature])\n",
    "            for value in values:\n",
    "                left_indices = X[:, feature] < value\n",
    "                left_X = X[left_indices]\n",
    "                left_y = y[left_indices]\n",
    "                right_X = X[~left_indices]\n",
    "                right_y = y[~left_indices]\n",
    "\n",
    "                if left_X.shape[0] == 0 or right_X.shape[0] == 0:\n",
    "                    continue\n",
    "\n",
    "                # Calculate split criterion: Sum of Squared Deviation Reduction (SDR)\n",
    "                sdr = self.calculate_sdr(left_y, right_y)\n",
    "\n",
    "                if sdr > best_sdr:\n",
    "                    best_sdr = sdr\n",
    "                    best_feature = feature\n",
    "                    best_value = value\n",
    "                    best_left_X = left_X\n",
    "                    best_left_y = left_y\n",
    "                    best_right_X = right_X\n",
    "                    best_right_y = right_y\n",
    "\n",
    "        # If there is no split with positive SDR, make a leaf node\n",
    "        if best_feature is None:\n",
    "            return {'leaf': True, 'value': y.mean()}\n",
    "\n",
    "        # Recursively split left and right nodes\n",
    "        left = self.split(best_left_X, best_left_y, depth+1)\n",
    "        right = self.split(best_right_X, best_right_y, depth+1)\n",
    "        return {'leaf': False, 'feature': best_feature, 'value': best_value, 'left': left, 'right': right}\n",
    "\n",
    "    # Function to calculate the standard deviation reduction value\n",
    "    def calculate_sdr(self, left_y, right_y):\n",
    "        parent_std = np.std(np.concatenate((left_y, right_y)))\n",
    "        left_std = np.std(left_y)\n",
    "        right_std = np.std(right_y)\n",
    "        n = left_y.shape[0] + right_y.shape[0]\n",
    "        sdr = parent_std - ((left_y.shape[0] / n) *left_std + (right_y.shape[0] / n) * right_std)\n",
    "        return sdr\n",
    "    \n",
    "    # Fit is the function that provides input and target values to the 'spilt' function and initializing the recursive process.\n",
    "    def fit(self, X, y):\n",
    "        self.tree = self.split(X, y, depth=0)\n",
    "        \n",
    "    # For predicting with new data points provided\n",
    "    def predict(self, X):\n",
    "        return np.array([self.traverse(x, self.tree) for x in X])\n",
    "    \n",
    "    # Function makes predictions based on the tree stored in the 'fit' function.\n",
    "    def traverse(self, x, node):\n",
    "        if node['leaf']:\n",
    "            return node['value']\n",
    "\n",
    "        if x[node['feature']] < node['value']:\n",
    "            return self.traverse(x, node['left'])\n",
    "        else:\n",
    "            return self.traverse(x, node['right'])"
   ]
  },
  {
   "cell_type": "code",
   "execution_count": 69,
   "id": "fb15dde0",
   "metadata": {},
   "outputs": [],
   "source": [
    "X = cars.iloc[:, :-1].values\n",
    "Y = cars.iloc[:, -1].values.reshape(-1,1)\n",
    "from sklearn.model_selection import train_test_split\n",
    "X_train, X_test, Y_train, Y_test = train_test_split(X, Y, test_size=.2, random_state=41)"
   ]
  },
  {
   "cell_type": "code",
   "execution_count": 70,
   "id": "905fd34d",
   "metadata": {},
   "outputs": [],
   "source": [
    "model = DecisionTree()\n",
    "model.fit(X_train,Y_train)"
   ]
  },
  {
   "cell_type": "code",
   "execution_count": 71,
   "id": "f5aa510c",
   "metadata": {},
   "outputs": [],
   "source": [
    "y_newhat=model.predict(X_test) "
   ]
  },
  {
   "cell_type": "code",
   "execution_count": 72,
   "id": "387c0f20",
   "metadata": {},
   "outputs": [],
   "source": [
    "# Testing score"
   ]
  },
  {
   "cell_type": "code",
   "execution_count": 73,
   "id": "76455e12",
   "metadata": {
    "scrolled": true
   },
   "outputs": [
    {
     "data": {
      "text/plain": [
       "0.15617376188860607"
      ]
     },
     "execution_count": 73,
     "metadata": {},
     "output_type": "execute_result"
    }
   ],
   "source": [
    "from sklearn.metrics import mean_squared_error\n",
    "np.sqrt(mean_squared_error(Y_test, y_newhat))"
   ]
  },
  {
   "cell_type": "code",
   "execution_count": 74,
   "id": "557c303c",
   "metadata": {},
   "outputs": [
    {
     "data": {
      "text/plain": [
       "0.024390243902439025"
      ]
     },
     "execution_count": 74,
     "metadata": {},
     "output_type": "execute_result"
    }
   ],
   "source": [
    "mean_squared_error(Y_test, y_newhat)"
   ]
  },
  {
   "cell_type": "code",
   "execution_count": 75,
   "id": "81ca98a9",
   "metadata": {},
   "outputs": [],
   "source": [
    "# Training score"
   ]
  },
  {
   "cell_type": "code",
   "execution_count": 76,
   "id": "fe446b73",
   "metadata": {},
   "outputs": [],
   "source": [
    "Y_train_new = model.predict(X_train)"
   ]
  },
  {
   "cell_type": "code",
   "execution_count": 77,
   "id": "294f32ef",
   "metadata": {},
   "outputs": [
    {
     "data": {
      "text/plain": [
       "0.0"
      ]
     },
     "execution_count": 77,
     "metadata": {},
     "output_type": "execute_result"
    }
   ],
   "source": [
    "np.sqrt(mean_squared_error(Y_train, Y_train_new))"
   ]
  },
  {
   "cell_type": "code",
   "execution_count": 78,
   "id": "42065d9b",
   "metadata": {},
   "outputs": [
    {
     "data": {
      "text/plain": [
       "0.0"
      ]
     },
     "execution_count": 78,
     "metadata": {},
     "output_type": "execute_result"
    }
   ],
   "source": [
    "mean_squared_error(Y_train, Y_train_new)"
   ]
  },
  {
   "cell_type": "code",
   "execution_count": 79,
   "id": "80f3c66c",
   "metadata": {},
   "outputs": [],
   "source": [
    "# Hyperparameter Tuning"
   ]
  },
  {
   "cell_type": "code",
   "execution_count": 80,
   "id": "a57e0343",
   "metadata": {},
   "outputs": [],
   "source": [
    "import numpy as np\n",
    "import pandas as pd\n",
    "from sklearn.model_selection import KFold    "
   ]
  },
  {
   "cell_type": "code",
   "execution_count": 81,
   "id": "cf6bfa20",
   "metadata": {},
   "outputs": [],
   "source": [
    "max_depths = [1, 2, 3, 4, 5]\n",
    "min_samples_splits = [2, 3, 4, 5]\n",
    "\n",
    "def calculate_mse(y_true, y_pred):\n",
    "    mse = np.mean((y_true - y_pred)**2)\n",
    "    return mse\n",
    "\n",
    "best_params = {}\n",
    "best_params_train = {}\n",
    "best_mse = float('inf')\n",
    "best_mse_train = float('inf')\n",
    "\n",
    "kf = KFold(n_splits=5, shuffle=True)\n",
    "\n",
    "for max_depth in max_depths:\n",
    "    for min_samples_split in min_samples_splits:\n",
    "            # Define the decision tree regressor with current hyperparameters\n",
    "            dtr = DecisionTree(max_depth=max_depth, min_samples_split=min_samples_split)\n",
    "                                         \n",
    "            # Fit the model to the data using k-fold cross-validation\n",
    "            mse_list = []\n",
    "            mse_list_train = []\n",
    "            for train_idx, test_idx in kf.split(X):\n",
    "                X_train, y_train = X[train_idx], Y[train_idx]\n",
    "                X_test, y_test = X[test_idx], Y[test_idx]\n",
    "                dtr.fit(X_train, y_train)\n",
    "                y_pred = dtr.predict(X_test)\n",
    "                y_train_pred = dtr.predict(X_train)\n",
    "                mse = calculate_mse(y_test, y_pred)\n",
    "                mse_train = calculate_mse(y_train, y_train_pred)\n",
    "                mse_list.append(mse)\n",
    "                mse_list_train.append(mse_train)\n",
    "            mean_mse = np.mean(mse_list)\n",
    "            mean_mse_train = np.mean(mse_list_train)\n",
    "            # Check if this is the best result so far\n",
    "            if mean_mse < best_mse:\n",
    "                best_mse = mean_mse\n",
    "                best_params['max_depth'] = max_depth\n",
    "                best_params['min_samples_split'] = min_samples_split\n",
    "                \n",
    "            if mean_mse_train < best_mse_train:\n",
    "                best_mse_train = mean_mse_train\n",
    "                best_params_train['max_depth'] = max_depth\n",
    "                best_params_train['min_samples_split'] = min_samples_split\n",
    "                "
   ]
  },
  {
   "cell_type": "code",
   "execution_count": 82,
   "id": "a9895d83",
   "metadata": {},
   "outputs": [
    {
     "name": "stdout",
     "output_type": "stream",
     "text": [
      "Best Hyperparameters: {'max_depth': 2, 'min_samples_split': 2}\n",
      "Best MSE: 0.004878048780487805\n",
      "Best Hyperparameters with training data: {'max_depth': 4, 'min_samples_split': 5}\n",
      "Best MSE on training data: 0.00603807257584771\n"
     ]
    }
   ],
   "source": [
    "# Print the best hyperparameters and the corresponding mean squared error\n",
    "print('Best Hyperparameters:', best_params)\n",
    "print('Best MSE:', best_mse)\n",
    "print('Best Hyperparameters with training data:', best_params_train)\n",
    "print('Best MSE on training data:', best_mse_train)"
   ]
  },
  {
   "cell_type": "code",
   "execution_count": null,
   "id": "f0ce44a6",
   "metadata": {},
   "outputs": [],
   "source": []
  }
 ],
 "metadata": {
  "kernelspec": {
   "display_name": "Python 3 (ipykernel)",
   "language": "python",
   "name": "python3"
  },
  "language_info": {
   "codemirror_mode": {
    "name": "ipython",
    "version": 3
   },
   "file_extension": ".py",
   "mimetype": "text/x-python",
   "name": "python",
   "nbconvert_exporter": "python",
   "pygments_lexer": "ipython3",
   "version": "3.9.7"
  }
 },
 "nbformat": 4,
 "nbformat_minor": 5
}
